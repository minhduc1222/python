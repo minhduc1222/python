{
 "cells": [
  {
   "cell_type": "code",
   "execution_count": 1,
   "metadata": {},
   "outputs": [
    {
     "name": "stdout",
     "output_type": "stream",
     "text": [
      "2\n",
      "2\n",
      "2\n",
      "2\n",
      "2\n"
     ]
    }
   ],
   "source": [
    "\n",
    "class iterable:\n",
    "    def __iter__(self):\n",
    "        self.a = 2\n",
    "        return self\n",
    "    def __next__(self1):\n",
    "        b = self1.a\n",
    "        return b\n",
    "    \n",
    "my_iter = iterable()\n",
    "my_true_iter = iter(my_iter)\n",
    "\n",
    "print(next(my_true_iter))\n",
    "print(next(my_true_iter))\n",
    "print(next(my_true_iter))\n",
    "print(next(my_true_iter))\n",
    "print(next(my_true_iter))\n"
   ]
  }
 ],
 "metadata": {
  "kernelspec": {
   "display_name": "Python 3",
   "language": "python",
   "name": "python3"
  },
  "language_info": {
   "codemirror_mode": {
    "name": "ipython",
    "version": 3
   },
   "file_extension": ".py",
   "mimetype": "text/x-python",
   "name": "python",
   "nbconvert_exporter": "python",
   "pygments_lexer": "ipython3",
   "version": "3.11.4"
  }
 },
 "nbformat": 4,
 "nbformat_minor": 2
}
