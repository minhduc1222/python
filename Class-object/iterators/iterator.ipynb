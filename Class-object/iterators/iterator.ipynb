{
 "cells": [
  {
   "cell_type": "code",
   "execution_count": 4,
   "metadata": {},
   "outputs": [
    {
     "name": "stdout",
     "output_type": "stream",
     "text": [
      "apple\n",
      "banana\n",
      "cherry\n",
      "no item left to be called\n"
     ]
    }
   ],
   "source": [
    "# iterator is objects that has a range of value, and be integrated with iterator protocol\n",
    "# iterator protocol include __iter()__ and __next()__\n",
    "\n",
    "my_tuple = (\"apple\", \"banana\", \"cherry\")\n",
    "my_it = iter(my_tuple) \n",
    "\n",
    "# try: check if there is an error, if yes, execute the except block\n",
    "try:\n",
    "    print(next(my_it))\n",
    "    print(next(my_it))\n",
    "    print(next(my_it))\n",
    "    print(next(my_it))\n",
    "except StopIteration: # name the specific error that ll trigger the code block\n",
    "    print(\"no item left to be called\")\n",
    "    \n"
   ]
  },
  {
   "cell_type": "code",
   "execution_count": 5,
   "metadata": {},
   "outputs": [
    {
     "name": "stdout",
     "output_type": "stream",
     "text": [
      "1\n",
      "1\n",
      "1\n",
      "1\n",
      "1\n"
     ]
    }
   ],
   "source": [
    "# create an iterator: need to implement the methods __iter__() and __next__() to your object\n",
    "\n",
    "# __iter__() act similar to the __init()__, .. (operation) but must always return the iterator object\n",
    "# __next__() allows you to do the operation, but must always return the next item in the sequence\n",
    "\n",
    "class My_number:\n",
    "    def __iter__(self):\n",
    "        self.a = 1\n",
    "        return self\n",
    "    \n",
    "    def __next__(self):\n",
    "        x = self.a\n",
    "        return x\n",
    "\n",
    "my_class = My_number()\n",
    "my_iter = iter(my_class)\n",
    "\n",
    "print(next(my_iter)) \n",
    "print(next(my_iter))\n",
    "print(next(my_iter))\n",
    "print(next(my_iter))\n",
    "print(next(my_iter))\n"
   ]
  }
 ],
 "metadata": {
  "kernelspec": {
   "display_name": "Python 3",
   "language": "python",
   "name": "python3"
  },
  "language_info": {
   "codemirror_mode": {
    "name": "ipython",
    "version": 3
   },
   "file_extension": ".py",
   "mimetype": "text/x-python",
   "name": "python",
   "nbconvert_exporter": "python",
   "pygments_lexer": "ipython3",
   "version": "3.11.4"
  }
 },
 "nbformat": 4,
 "nbformat_minor": 2
}
