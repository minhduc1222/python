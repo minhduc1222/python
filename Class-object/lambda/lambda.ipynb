{
 "cells": [
  {
   "cell_type": "code",
   "execution_count": 2,
   "metadata": {},
   "outputs": [
    {
     "name": "stdout",
     "output_type": "stream",
     "text": [
      "15\n",
      "30\n"
     ]
    }
   ],
   "source": [
    "# lambda: small anonymous function, can take any number of arguments but only have one expression\n",
    "x = lambda a: a+10\n",
    "print(x(5))\n",
    "\n",
    "y = lambda b, c: b * c\n",
    "print(y(3,10))"
   ]
  },
  {
   "cell_type": "code",
   "execution_count": 4,
   "metadata": {},
   "outputs": [
    {
     "name": "stdout",
     "output_type": "stream",
     "text": [
      "15\n",
      "22\n",
      "33\n"
     ]
    }
   ],
   "source": [
    "# lambda is a suitable choice when u need an anonymous function inside a function\n",
    "def my_Function(n):\n",
    "    return lambda a: a * n\n",
    "x = my_Function(5)\n",
    "print(x(3))\n",
    "\n",
    "def my_Func(n):\n",
    "    return lambda a: a * n\n",
    "\n",
    "my_Double = my_Func(2)\n",
    "my_Triple = my_Func(3)\n",
    "\n",
    "print(my_Double(11))\n",
    "print(my_Triple(11))\n"
   ]
  }
 ],
 "metadata": {
  "kernelspec": {
   "display_name": "Python 3",
   "language": "python",
   "name": "python3"
  },
  "language_info": {
   "codemirror_mode": {
    "name": "ipython",
    "version": 3
   },
   "file_extension": ".py",
   "mimetype": "text/x-python",
   "name": "python",
   "nbconvert_exporter": "python",
   "pygments_lexer": "ipython3",
   "version": "3.11.4"
  }
 },
 "nbformat": 4,
 "nbformat_minor": 2
}
