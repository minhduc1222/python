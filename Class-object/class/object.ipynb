{
 "cells": [
  {
   "cell_type": "code",
   "execution_count": 1,
   "metadata": {},
   "outputs": [
    {
     "name": "stdout",
     "output_type": "stream",
     "text": [
      "5\n"
     ]
    }
   ],
   "source": [
    "class my_class:\n",
    "    x = 5\n",
    "p1 = my_class() # object can be interpreted as an instance of class with its own value\n",
    "print(p1.x)"
   ]
  },
  {
   "cell_type": "code",
   "execution_count": 2,
   "metadata": {},
   "outputs": [
    {
     "name": "stdout",
     "output_type": "stream",
     "text": [
      "Hello my name isjohn\n"
     ]
    }
   ],
   "source": [
    "# object method\n",
    "class Already_Person:\n",
    "    def __init__(self, name, age):\n",
    "        self.name = name\n",
    "        self.age = age\n",
    "    def my_func(self):\n",
    "        print(\"Hello my name is\" + self.name)\n",
    "    \n",
    "p1 = Already_Person(\"john\", 36)\n",
    "p1.my_func()"
   ]
  },
  {
   "cell_type": "code",
   "execution_count": 1,
   "metadata": {},
   "outputs": [
    {
     "name": "stdout",
     "output_type": "stream",
     "text": [
      "hello my name is John\n",
      "42\n"
     ]
    },
    {
     "ename": "NameError",
     "evalue": "name 'p1' is not defined",
     "output_type": "error",
     "traceback": [
      "\u001b[1;31m---------------------------------------------------------------------------\u001b[0m",
      "\u001b[1;31mNameError\u001b[0m                                 Traceback (most recent call last)",
      "Cell \u001b[1;32mIn[1], line 20\u001b[0m\n\u001b[0;32m     18\u001b[0m \u001b[38;5;66;03m#object can be deleted\u001b[39;00m\n\u001b[0;32m     19\u001b[0m \u001b[38;5;28;01mdel\u001b[39;00m p1\n\u001b[1;32m---> 20\u001b[0m \u001b[38;5;28mprint\u001b[39m(\u001b[43mp1\u001b[49m\u001b[38;5;241m.\u001b[39mage)\n",
      "\u001b[1;31mNameError\u001b[0m: name 'p1' is not defined"
     ]
    }
   ],
   "source": [
    "# Self parameter = refer to the current instance of class - use to access variable within a class\n",
    "\n",
    "\n",
    "class Just_person:\n",
    "    def __init__(an_object, name, age):\n",
    "        an_object.name = name\n",
    "        an_object.age = age\n",
    "    \n",
    "    def my_function(box):\n",
    "        print(\"hello my name is \" + box.name)\n",
    "    \n",
    "p1 = Just_person(\"John\", 36)\n",
    "p1.my_function()\n",
    "\n",
    "#value can be modified\n",
    "p1.age = 42\n",
    "print(p1.age)\n",
    "#object can be deleted\n",
    "del p1\n",
    "print(p1.age)"
   ]
  }
 ],
 "metadata": {
  "kernelspec": {
   "display_name": "Python 3",
   "language": "python",
   "name": "python3"
  },
  "language_info": {
   "codemirror_mode": {
    "name": "ipython",
    "version": 3
   },
   "file_extension": ".py",
   "mimetype": "text/x-python",
   "name": "python",
   "nbconvert_exporter": "python",
   "pygments_lexer": "ipython3",
   "version": "3.11.4"
  }
 },
 "nbformat": 4,
 "nbformat_minor": 2
}
