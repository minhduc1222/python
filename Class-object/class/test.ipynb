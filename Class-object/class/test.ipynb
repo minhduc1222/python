{
 "cells": [
  {
   "cell_type": "code",
   "execution_count": 20,
   "metadata": {},
   "outputs": [
    {
     "name": "stdout",
     "output_type": "stream",
     "text": [
      "toyota\n"
     ]
    }
   ],
   "source": [
    "# create class, object, and call object'method\n",
    "class car:\n",
    "    def __init__(self,name,speed,weight):\n",
    "        self.name = name\n",
    "        self.speed = speed\n",
    "        self.weight = weight\n",
    "    def name_call(self): # object method\n",
    "        print(self.name)\n",
    "\n",
    "x = car('toyota', 50, 700)\n",
    "x.name_call()"
   ]
  },
  {
   "cell_type": "markdown",
   "metadata": {},
   "source": [
    "# __<keyword>__ = initiate upon creating object"
   ]
  },
  {
   "cell_type": "code",
   "execution_count": 26,
   "metadata": {},
   "outputs": [
    {
     "name": "stdout",
     "output_type": "stream",
     "text": [
      "toyota, 50, 700\n"
     ]
    }
   ],
   "source": [
    "class car:\n",
    "    def __init__(self,name,speed,weight):\n",
    "        self.name1 = name\n",
    "        self.speed2 = speed\n",
    "        self.weight3 = weight\n",
    "    def __str__(self1): # return (object) in a format\n",
    "        return f'{self1.name1}, {self1.speed2}, {self1.weight3}'\n",
    "\n",
    "x = car('toyota', 50, 700)\n",
    "print(x)"
   ]
  }
 ],
 "metadata": {
  "kernelspec": {
   "display_name": "Python 3",
   "language": "python",
   "name": "python3"
  },
  "language_info": {
   "codemirror_mode": {
    "name": "ipython",
    "version": 3
   },
   "file_extension": ".py",
   "mimetype": "text/x-python",
   "name": "python",
   "nbconvert_exporter": "python",
   "pygments_lexer": "ipython3",
   "version": "3.11.4"
  }
 },
 "nbformat": 4,
 "nbformat_minor": 2
}
