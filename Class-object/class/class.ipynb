{
 "cells": [
  {
   "cell_type": "code",
   "execution_count": 1,
   "metadata": {},
   "outputs": [
    {
     "name": "stdout",
     "output_type": "stream",
     "text": [
      "<__main__.room object at 0x000001EADFE96950>\n"
     ]
    }
   ],
   "source": [
    "# Create a class\n",
    "# class can be interpreted as object instructor, blueprint for objects\n",
    "class room:\n",
    "    x = 1\n",
    "print(room())"
   ]
  },
  {
   "cell_type": "code",
   "execution_count": 9,
   "metadata": {},
   "outputs": [
    {
     "name": "stdout",
     "output_type": "stream",
     "text": [
      "John\n",
      "36\n"
     ]
    }
   ],
   "source": [
    "# init a class\n",
    "class Person:  \n",
    "    def __init__(self, name, number): # __init__ automatically assign value to object properties or do any operation when function is called\n",
    "        self.name = name\n",
    "        self.number = number\n",
    "p1 = Person(\"John\", 36)\n",
    "print(p1.name)\n",
    "print(p1.number)\n"
   ]
  },
  {
   "cell_type": "code",
   "execution_count": 10,
   "metadata": {},
   "outputs": [
    {
     "name": "stdout",
     "output_type": "stream",
     "text": [
      "John36\n"
     ]
    }
   ],
   "source": [
    "# the __str__() Function\n",
    "class human:\n",
    "    def __init__(self, name, age): # self(most chosen name) access variable of a class\n",
    "        self.name = name\n",
    "        self.age = age\n",
    "    def __str__(self): # return object in a string representation form\n",
    "        return f\"{self.name}{self.age}\"\n",
    "    \n",
    "p1 = human(\"John\", 36)\n",
    "\n",
    "print(p1)\n",
    "        \n",
    "        "
   ]
  }
 ],
 "metadata": {
  "kernelspec": {
   "display_name": "Python 3",
   "language": "python",
   "name": "python3"
  },
  "language_info": {
   "codemirror_mode": {
    "name": "ipython",
    "version": 3
   },
   "file_extension": ".py",
   "mimetype": "text/x-python",
   "name": "python",
   "nbconvert_exporter": "python",
   "pygments_lexer": "ipython3",
   "version": "3.11.4"
  }
 },
 "nbformat": 4,
 "nbformat_minor": 2
}
