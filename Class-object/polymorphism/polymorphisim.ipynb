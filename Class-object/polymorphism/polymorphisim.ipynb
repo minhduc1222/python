{
 "cells": [
  {
   "cell_type": "code",
   "execution_count": 5,
   "metadata": {},
   "outputs": [
    {
     "name": "stdout",
     "output_type": "stream",
     "text": [
      "drive\n",
      "boat\n",
      "plane\n"
     ]
    }
   ],
   "source": [
    "# polymorph: happen when we have multiple classes with same methods\n",
    "class car:\n",
    "    def __init__(self, model, brand) -> None:\n",
    "        self.model = model\n",
    "        self.brand = brand\n",
    "    def move(self):\n",
    "        print('drive')\n",
    "\n",
    "class boat:\n",
    "    def __init__(self, model, brand) -> None:\n",
    "        self.model = model\n",
    "        self.brand = brand\n",
    "    def move(self):\n",
    "        print('boat')\n",
    "        \n",
    "class plane:\n",
    "    def __init__(self, model, brand) -> None:\n",
    "        self.model = model\n",
    "        self.brand = brand\n",
    "    def move(self):\n",
    "        print('plane')\n",
    "        \n",
    "Car1 = car('Ford', 'Mustang')\n",
    "Boat1 = boat('ibiza', 'touring20')\n",
    "Plane1 = plane('boieng', '747')\n",
    "\n",
    "Car1.move()\n",
    "Boat1.move()\n",
    "Plane1.move()"
   ]
  }
 ],
 "metadata": {
  "kernelspec": {
   "display_name": "Python 3",
   "language": "python",
   "name": "python3"
  },
  "language_info": {
   "codemirror_mode": {
    "name": "ipython",
    "version": 3
   },
   "file_extension": ".py",
   "mimetype": "text/x-python",
   "name": "python",
   "nbconvert_exporter": "python",
   "pygments_lexer": "ipython3",
   "version": "3.11.4"
  }
 },
 "nbformat": 4,
 "nbformat_minor": 2
}
