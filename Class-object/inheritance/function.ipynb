{
 "cells": [
  {
   "cell_type": "code",
   "execution_count": 15,
   "metadata": {},
   "outputs": [],
   "source": [
    "# create a Parent class\n",
    "class Person:\n",
    "    def __init__(self, fname, lname):\n",
    "        self.firstname = fname\n",
    "        self.lastname = lname\n",
    "    def print_name(self):\n",
    "        print(self.firstname, self.lastname)\n",
    "        \n",
    "        "
   ]
  },
  {
   "cell_type": "code",
   "execution_count": 19,
   "metadata": {},
   "outputs": [
    {
     "name": "stdout",
     "output_type": "stream",
     "text": [
      "mikes oven\n"
     ]
    }
   ],
   "source": [
    "# create and add the __init__() function to a child class\n",
    "class Student(Person): \n",
    "# child has __init__() itself, overide( ghi de) the parent's __init__() inside\n",
    "    def __init__(self, fname, lname):\n",
    "        Person.__init__(self, fname, lname) # way 1: use the name of the parent class make the child class inherit all methods and properties from its parent class\n",
    "    \n",
    "x = Student(\"mikes\", \"oven\")\n",
    "x.print_name()\n",
    "        "
   ]
  },
  {
   "cell_type": "code",
   "execution_count": null,
   "metadata": {},
   "outputs": [
    {
     "name": "stdout",
     "output_type": "stream",
     "text": [
      "Mikes oven\n"
     ]
    }
   ],
   "source": [
    "# the super() function\n",
    "class Student(Person):\n",
    "    def __init__(self, fname, lname):\n",
    "        super().__init__(fname, lname) # way 2: using super()\n",
    "\n",
    "x = Student(\"Mikes\", \"oven\")\n",
    "x.print_name()"
   ]
  }
 ],
 "metadata": {
  "kernelspec": {
   "display_name": "Python 3",
   "language": "python",
   "name": "python3"
  },
  "language_info": {
   "codemirror_mode": {
    "name": "ipython",
    "version": 3
   },
   "file_extension": ".py",
   "mimetype": "text/x-python",
   "name": "python",
   "nbconvert_exporter": "python",
   "pygments_lexer": "ipython3",
   "version": "3.11.4"
  }
 },
 "nbformat": 4,
 "nbformat_minor": 2
}
