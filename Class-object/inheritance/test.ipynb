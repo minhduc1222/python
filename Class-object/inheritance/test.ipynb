{
 "cells": [
  {
   "cell_type": "code",
   "execution_count": 13,
   "metadata": {},
   "outputs": [
    {
     "name": "stdout",
     "output_type": "stream",
     "text": [
      "age: 40\n",
      "age: 7\n",
      "hobby: shower\n"
     ]
    }
   ],
   "source": [
    "# parent class\n",
    "class parent:\n",
    "    def __init__(big_self, height, age):\n",
    "        big_self.height = height\n",
    "        big_self.age = age\n",
    "    def age_call(self):\n",
    "        print(f'age: {self.age}')\n",
    "# child class\n",
    "class children(parent):\n",
    "    def __init__(big_self, height, age, hobby, friend):\n",
    "        parent.__init__(big_self, height, age)\n",
    "        # or super().__init__(big_self, height, age)\n",
    "        big_self.hobby = hobby\n",
    "        big_self.friend = friend\n",
    "    def __str__(self):\n",
    "        return f'{self.height}, {self.age}, {self.hobby}, {self.friend}'\n",
    "    def hobby_call(self):\n",
    "        print(f'hobby: {self.hobby}')\n",
    "\n",
    "        \n",
    "y = parent(154,40)      \n",
    "y.age_call()\n",
    "x = children(100,7,'shower','mike')\n",
    "x.age_call()\n",
    "x.hobby_call()"
   ]
  }
 ],
 "metadata": {
  "kernelspec": {
   "display_name": "Python 3",
   "language": "python",
   "name": "python3"
  },
  "language_info": {
   "codemirror_mode": {
    "name": "ipython",
    "version": 3
   },
   "file_extension": ".py",
   "mimetype": "text/x-python",
   "name": "python",
   "nbconvert_exporter": "python",
   "pygments_lexer": "ipython3",
   "version": "3.11.4"
  }
 },
 "nbformat": 4,
 "nbformat_minor": 2
}
