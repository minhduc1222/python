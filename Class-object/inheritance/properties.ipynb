{
 "cells": [
  {
   "cell_type": "code",
   "execution_count": 10,
   "metadata": {},
   "outputs": [
    {
     "name": "stdout",
     "output_type": "stream",
     "text": [
      "Mike 36\n"
     ]
    }
   ],
   "source": [
    "# create a Parent class\n",
    "class Person:\n",
    "    def __init__(self, fname, lname):\n",
    "        self.firstname = fname\n",
    "        self.lastname = lname\n",
    "    def print_name(self):\n",
    "        print(self.firstname, self.lastname)\n",
    "        \n",
    "x = Person(\"Mike\", 36)\n",
    "x.print_name()"
   ]
  },
  {
   "cell_type": "code",
   "execution_count": 12,
   "metadata": {},
   "outputs": [
    {
     "name": "stdout",
     "output_type": "stream",
     "text": [
      "2019\n",
      "welcome Mikes Olsen to the class of 2019\n"
     ]
    }
   ],
   "source": [
    "# add property\n",
    "# property called graduation_year to the student class\n",
    "\n",
    "class Student(Person):\n",
    "    def __init__(self, fname, lname, year):\n",
    "        super().__init__(fname, lname)\n",
    "        self.graduation_year = year\n",
    "# add a method\n",
    "    def welcome(self):\n",
    "        print(\"welcome\", self.firstname, self.lastname, \"to the class of\", self.graduation_year)\n",
    "x = Student(\"Mikes\", \"Olsen\", 2019)\n",
    "print(x.graduation_year)\n",
    "x.welcome()"
   ]
  }
 ],
 "metadata": {
  "kernelspec": {
   "display_name": "Python 3",
   "language": "python",
   "name": "python3"
  },
  "language_info": {
   "codemirror_mode": {
    "name": "ipython",
    "version": 3
   },
   "file_extension": ".py",
   "mimetype": "text/x-python",
   "name": "python",
   "nbconvert_exporter": "python",
   "pygments_lexer": "ipython3",
   "version": "3.11.4"
  }
 },
 "nbformat": 4,
 "nbformat_minor": 2
}
