{
 "cells": [
  {
   "cell_type": "code",
   "execution_count": 5,
   "metadata": {},
   "outputs": [
    {
     "name": "stdout",
     "output_type": "stream",
     "text": [
      "John Doe\n",
      "Mike Olsen\n"
     ]
    }
   ],
   "source": [
    "# inheritance = create a class that inherit all methods, properties from another class\n",
    "\n",
    "# create a parent class( class being inherited from)\n",
    "class Person:\n",
    "    def __init__(self, fname, lname):\n",
    "        self.firstname = fname\n",
    "        self.lastname = lname\n",
    "    def print_name(self):\n",
    "        print(self.firstname, self.lastname)\n",
    "        \n",
    "x = Person(\"John\", \"Doe\")\n",
    "x.print_name()\n",
    "\n",
    "# create a child class( send parent as parameter)\n",
    "\n",
    "class Student(Person):\n",
    "    pass\n",
    "y = Student(\"Mike\", \"Olsen\")\n",
    "y.print_name()"
   ]
  }
 ],
 "metadata": {
  "kernelspec": {
   "display_name": "Python 3",
   "language": "python",
   "name": "python3"
  },
  "language_info": {
   "codemirror_mode": {
    "name": "ipython",
    "version": 3
   },
   "file_extension": ".py",
   "mimetype": "text/x-python",
   "name": "python",
   "nbconvert_exporter": "python",
   "pygments_lexer": "ipython3",
   "version": "3.11.4"
  }
 },
 "nbformat": 4,
 "nbformat_minor": 2
}
