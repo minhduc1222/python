{
 "cells": [
  {
   "cell_type": "code",
   "execution_count": 2,
   "metadata": {},
   "outputs": [
    {
     "data": {
      "text/plain": [
       "'nar'"
      ]
     },
     "execution_count": 2,
     "metadata": {},
     "output_type": "execute_result"
    }
   ],
   "source": [
    "# shorthand If Else ( like the ternary operator in C)\n",
    "a = 2\n",
    "'yay' if a<1 else 'nar'\n",
    "# does not have shorthand if elif else"
   ]
  },
  {
   "cell_type": "code",
   "execution_count": 14,
   "metadata": {},
   "outputs": [
    {
     "name": "stdout",
     "output_type": "stream",
     "text": [
      "[1, 2, 4]\n",
      "[1, 2, 3, 4, 5, 6, 7, 8, 9, 10]\n",
      "[2, 4]\n",
      "[2, 3]\n",
      "[]\n",
      "[1, 2, 3, 4]\n",
      "[4, 6, 8]\n",
      "[1, 2, 4, 1, 2, 3, 4, 5, 6, 7, 8, 9, 10]\n"
     ]
    }
   ],
   "source": [
    "# lists sequence\n",
    "li = []\n",
    "other_li = [1,2,3,4,5,6,7,8,9,10]\n",
    "li.append(1)\n",
    "li.append(2)\n",
    "li.append(4)\n",
    "\n",
    "print(li)\n",
    "print(other_li)\n",
    "#look at range with slice syntax\n",
    "\n",
    "# formula: [start:end(not count end element):step]\n",
    "print(li[1:3])\n",
    "print(other_li[1:3])\n",
    "print(other_li[3:2])\n",
    "print(other_li[:4])\n",
    "print(other_li[3:8:2])\n",
    "\n",
    "\n",
    "print(li+other_li)"
   ]
  },
  {
   "cell_type": "markdown",
   "metadata": {},
   "source": [
    "# TUPLE"
   ]
  },
  {
   "cell_type": "code",
   "execution_count": 24,
   "metadata": {},
   "outputs": [
    {
     "name": "stdout",
     "output_type": "stream",
     "text": [
      "<class 'tuple'>\n",
      "<class 'tuple'>\n",
      "<class 'int'>\n",
      "(2, 3)\n"
     ]
    }
   ],
   "source": [
    "# tuple is like list but immutable( unchangeable)\n",
    "tup = (1, 2, 3,4,5,6,7)\n",
    "\n",
    "# type: tuple can be defined just by an element(int, str value) and a comma after)\n",
    "print(type((1,)))\n",
    "print(type(('r',)))\n",
    "print(type((1)))# wont work \n",
    "\n",
    "# list operations work on tuple too\n",
    "print(tup[1:3])"
   ]
  },
  {
   "cell_type": "code",
   "execution_count": 28,
   "metadata": {},
   "outputs": [
    {
     "name": "stdout",
     "output_type": "stream",
     "text": [
      "1 2\n",
      "[5, 6]\n",
      "8\n"
     ]
    }
   ],
   "source": [
    "# unpack a tuple into variables equivalent to declare each variable solely\n",
    "a, b, c = (1, 2, 3)\n",
    "print(a,b)\n",
    "d, *e, f = (4, 5, 6, 7)\n",
    "print(e)\n",
    "\n",
    "# tuple by default\n",
    "g, h, i = 8,9,10\n",
    "print(g)\n"
   ]
  },
  {
   "cell_type": "markdown",
   "metadata": {},
   "source": [
    "# Dictionary"
   ]
  },
  {
   "cell_type": "code",
   "execution_count": 33,
   "metadata": {},
   "outputs": [
    {
     "name": "stdout",
     "output_type": "stream",
     "text": [
      "[1, 2, 4, 5]\n"
     ]
    }
   ],
   "source": [
    "# Dictionary stores mapping from key to value\n",
    "\n",
    "# the key must be immutable(like int, str, float, tuple) so it can be converted to a constant hash value for quick lookup\n",
    "valid_dict = {(1,2,3):[1,2,4,5]}\n",
    "print(valid_dict[(1,2,3)])\n",
    "# invalid_dict = {[1,3,4]:[1,2,3,4]}\n",
    "# print(invalid_dict[(1,3,4)])\n"
   ]
  },
  {
   "cell_type": "code",
   "execution_count": 114,
   "metadata": {},
   "outputs": [
    {
     "name": "stdout",
     "output_type": "stream",
     "text": [
      "[1, 2, 3, 4, 7]\n",
      "['anh', 'chi', 'em', 'cau', 'chu']\n",
      "anh\n",
      "chu\n",
      "{1: 'anh', 2: 'chi', 3: 'em', 4: 'cau', 7: 'chu', 8: 'co'}\n",
      "{1: 'anh', 2: 'chi', 3: 'em', 4: 'cau', 7: 'chu', 8: 'co', 9: 'di'}\n",
      "{2: 'chi', 3: 'em', 4: 'cau', 7: 'chu', 8: 'co', 9: 'di'}\n",
      "{2: 'chi', 3: 'em', 7: 'chu', 8: 'co', 9: 'di'}\n"
     ]
    }
   ],
   "source": [
    "normal_dict = {a:'anh',b:'chi',c:'em',d:'cau',f:'chu'}\n",
    "#print out list of keys(come in ordered numbers) and values\n",
    "print(list(normal_dict.keys())) # must have list to list out order of dictionary'elements( means key) ( work in python3.7+)\n",
    "print(list(normal_dict.values()))\n",
    "\n",
    "# get key from value\n",
    "print(normal_dict.get(a))\n",
    "print(normal_dict.get(f))\n",
    "\n",
    "# setdefault() - insert into the dictionary if the key doesn't present\n",
    "normal_dict.setdefault(g,'co')\n",
    "print(normal_dict)\n",
    "# or update()\n",
    "normal_dict.update({h:'di'})\n",
    "print(normal_dict)\n",
    "\n",
    "# remove key\n",
    "del normal_dict[1]\n",
    "print(normal_dict)\n",
    "normal_dict.pop(4)\n",
    "print(normal_dict)\n",
    "\n",
    "\n"
   ]
  },
  {
   "cell_type": "code",
   "execution_count": 116,
   "metadata": {},
   "outputs": [
    {
     "name": "stdout",
     "output_type": "stream",
     "text": [
      "{'a': 5, 'b': 2, 'c': 3, 'd': 4, 'f': 6}\n"
     ]
    }
   ],
   "source": [
    "# merge two dictionary\n",
    "dict_1 = {'a':1,'b':2,'c':3}\n",
    "dict_2 = {'d':4,'a':5,'f':6} # the value of 'a' 's updated to 4\n",
    "merge_dict = {**dict_1, **dict_2}\n",
    "print(merge_dict)"
   ]
  },
  {
   "cell_type": "markdown",
   "metadata": {},
   "source": [
    "# set"
   ]
  },
  {
   "cell_type": "code",
   "execution_count": 1,
   "metadata": {},
   "outputs": [
    {
     "name": "stdout",
     "output_type": "stream",
     "text": [
      "{1, 2, 3, 4, 5}\n",
      "{1, 2, 3, 4, 5, (6, 7), (1, 2)}\n"
     ]
    }
   ],
   "source": [
    "# like dictionary'key, elements of set need to be immutable and unique\n",
    "a_set = {1,2,3,4,5,2,3}\n",
    "print(a_set)\n",
    "\n",
    "# add item to set\n",
    "a_set.add((6,7))\n",
    "a_set.add((1,2))\n",
    "print(a_set)\n"
   ]
  },
  {
   "cell_type": "code",
   "execution_count": 2,
   "metadata": {},
   "outputs": [
    {
     "name": "stdout",
     "output_type": "stream",
     "text": [
      "{6, 7, 8, 9, 10}\n",
      "set()\n",
      "{4, 5}\n",
      "{1, 2, 3, 4, 5, (1, 2), 6, 7, 8, 9, 10, (6, 7)}\n",
      "{1, 2, 3, (1, 2), 6, 7, 8, 9, 10, (6, 7)}\n",
      "{4, 5, 6, 7, 8, 9, 10}\n",
      "False\n"
     ]
    }
   ],
   "source": [
    "\n",
    "# set intersection(giao diem)\n",
    "other_set = {6,7,8,9,10}\n",
    "print(other_set) # => set is {6,7,8,9,10}\n",
    "print(a_set & other_set) # value within tuple doesn't count\n",
    "other_set.add(4) \n",
    "other_set.add(5) # => now set is {4,5,6,7,8,9,10} (ex)\n",
    "print(a_set & other_set)\n",
    "\n",
    "# do set union with |\n",
    "print(a_set | other_set)\n",
    "\n",
    "# do set symmetric difference(khac biet doi xung) with ^\n",
    "print(a_set ^ other_set)\n",
    "\n",
    "copy_set = other_set.copy() # copy other_set (ex)\n",
    "print(copy_set)\n",
    "print(copy_set is other_set)"
   ]
  }
 ],
 "metadata": {
  "kernelspec": {
   "display_name": "Python 3",
   "language": "python",
   "name": "python3"
  },
  "language_info": {
   "codemirror_mode": {
    "name": "ipython",
    "version": 3
   },
   "file_extension": ".py",
   "mimetype": "text/x-python",
   "name": "python",
   "nbconvert_exporter": "python",
   "pygments_lexer": "ipython3",
   "version": "3.11.4"
  }
 },
 "nbformat": 4,
 "nbformat_minor": 2
}
