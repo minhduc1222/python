{
 "cells": [
  {
   "cell_type": "code",
   "execution_count": 3,
   "metadata": {},
   "outputs": [
    {
     "name": "stdout",
     "output_type": "stream",
     "text": [
      "dog is an animal\n",
      "cat is an animal\n",
      "mouse is an animal\n"
     ]
    }
   ],
   "source": [
    "# interpolate list'elements to a sentence at{} using format()\n",
    "for animal in ['dog', 'cat', 'mouse']:\n",
    "    print('{} is an animal'.format(animal))"
   ]
  },
  {
   "cell_type": "code",
   "execution_count": 4,
   "metadata": {},
   "outputs": [
    {
     "name": "stdout",
     "output_type": "stream",
     "text": [
      "0 dog\n",
      "1 cat\n",
      "2 mouse\n"
     ]
    }
   ],
   "source": [
    "# retrieve both the index and value of the list'items\n",
    "animals = ['dog', 'cat', 'mouse']\n",
    "for i,value in enumerate(animals):\n",
    "    print(i,value)"
   ]
  },
  {
   "cell_type": "code",
   "execution_count": 35,
   "metadata": {},
   "outputs": [
    {
     "name": "stdout",
     "output_type": "stream",
     "text": [
      "0.5\n",
      "syntax erdasror\n"
     ]
    }
   ],
   "source": [
    "try:\n",
    "    term1 = int(input('enter something 1: '))\n",
    "    term2 = int(input('enter something 2: '))\n",
    "    print(f'{term1/term2}')\n",
    "    if term1 >0 and term2>0:\n",
    "        pass\n",
    "    else:\n",
    "        raise IndexError # when we try to access an index of a sequence(string, list, tuple) that's out of range\n",
    "except(SyntaxError): # doesn't follow the python principle\n",
    "    print('syntax error')\n",
    "except(ValueError): #  not the right data type\n",
    "    print('value error') \n",
    "except(NameError): # raise when the interpreter meets a variable, function and cannot find its value in the current scope (due to misspelling,out of scope,..)\n",
    "    print('name error')\n",
    "except(AttributeError):\n",
    "    print(\"AttributeError\") # when try to access a method, attribute that does not exist in that object\n",
    "\n",
    "    "
   ]
  },
  {
   "cell_type": "code",
   "execution_count": 36,
   "metadata": {},
   "outputs": [
    {
     "name": "stdout",
     "output_type": "stream",
     "text": [
      "Error: Cannot divide by zero\n"
     ]
    }
   ],
   "source": [
    "def divide(a, b):\n",
    "    if b == 0:\n",
    "        raise ZeroDivisionError(\"Cannot divide by zero\")\n",
    "    return a / b\n",
    "\n",
    "try:\n",
    "    result = divide(5, 0)\n",
    "    print(result)\n",
    "except ZeroDivisionError as e:\n",
    "    print(\"Error:\", e)"
   ]
  },
  {
   "cell_type": "code",
   "execution_count": 37,
   "metadata": {},
   "outputs": [
    {
     "name": "stdout",
     "output_type": "stream",
     "text": [
      "We can clean up resources here\n"
     ]
    }
   ],
   "source": [
    "try:\n",
    "    # Use \"raise\" to raise an error\n",
    "    raise IndexError(\"This is an index error\")\n",
    "except IndexError as e:\n",
    "    pass  # Refrain from this, provide a recovery (next example).\n",
    "except (TypeError, NameError):\n",
    "    pass  # Multiple exceptions can be processed jointly.\n",
    "else:\n",
    "    print(\"All good!\")  # Runs only if the code in try raises no exceptions\n",
    "finally:\n",
    "    print(\"We can clean up resources here\") # runs in both circumstances"
   ]
  },
  {
   "cell_type": "code",
   "execution_count": 1,
   "metadata": {},
   "outputs": [
    {
     "name": "stdout",
     "output_type": "stream",
     "text": [
      "{'aa': 1, 'bb': 2}\n",
      "{'aa': 1, 'bb': 2}\n"
     ]
    }
   ],
   "source": [
    "# Writing to a file\n",
    "content = {'aa': 1, 'bb': 2}\n",
    "with open(\"myfile1.txt\", \"w+\") as file: # \"w+\" = read and write , automatically open file\n",
    "    file.write(str(content)) # write string to a file\n",
    "    \n",
    "import json\n",
    "with open(\"myfile2.txt\", \"w+\") as file:\n",
    "    file.write(json.dumps(content)) # write object to a file\n",
    "\n",
    "with open(\"myfile1.txt\", \"r+\") as file: \n",
    "    contents = file.read()\n",
    "    file.write('abc') # read and write and printout object from a file\n",
    "print(contents)\n",
    "\n",
    "with open(\"myfile2.txt\",\"r+\") as file:\n",
    "    contents = json.load(file) # read an object from a file\n",
    "print(contents)"
   ]
  },
  {
   "cell_type": "markdown",
   "metadata": {},
   "source": [
    "# write object to a file: use serialization to convert object into format readable form, enable it to be stored or transferred across networks - use jason\n",
    "    serialization means transforming complex objects like list, dictionary, class, into a byte stream, str representation - preserve data, objects'structures\n",
    "        serialization formal includes JSON, XML,\n",
    "\n",
    "# write string to a file: just write the encoded representation of string to a file without structure preservation - after using json\n",
    "    (str = plain, encoded text(UTF-8, ASCLL))\n",
    "    store simple text(binary) data, does not require complex structure or specific semantic objects"
   ]
  },
  {
   "cell_type": "code",
   "execution_count": 102,
   "metadata": {},
   "outputs": [
    {
     "data": {
      "text/plain": [
       "[]"
      ]
     },
     "execution_count": 102,
     "metadata": {},
     "output_type": "execute_result"
    }
   ],
   "source": [
    "fill_dict = {'one':1, 'two':2, 'three':3}\n",
    "iterable = fill_dict.keys()\n",
    "\n",
    "\n",
    "\n",
    "iterator = iter(iterable) # get an iterable (object that know how to create iterator. Iterator means object that can remember the state as we traverse)\n",
    "next(iterator)\n",
    "next(iterator)\n",
    "next(iterator)\n",
    "\n",
    "list(iterable)\n",
    "list(iterator)"
   ]
  }
 ],
 "metadata": {
  "kernelspec": {
   "display_name": "Python 3",
   "language": "python",
   "name": "python3"
  },
  "language_info": {
   "codemirror_mode": {
    "name": "ipython",
    "version": 3
   },
   "file_extension": ".py",
   "mimetype": "text/x-python",
   "name": "python",
   "nbconvert_exporter": "python",
   "pygments_lexer": "ipython3",
   "version": "3.11.4"
  }
 },
 "nbformat": 4,
 "nbformat_minor": 2
}
