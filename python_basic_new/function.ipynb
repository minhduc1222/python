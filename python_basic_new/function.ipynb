{
 "cells": [
  {
   "cell_type": "code",
   "execution_count": 4,
   "metadata": {},
   "outputs": [
    {
     "data": {
      "text/plain": [
       "{'x': 1, 'y': 2, 'z': 3}"
      ]
     },
     "execution_count": 4,
     "metadata": {},
     "output_type": "execute_result"
    }
   ],
   "source": [
    "# function that takes certain number of parameters as 1 positional argument\n",
    "\n",
    "def print_line(*variable):\n",
    "    return variable\n",
    "\n",
    "print_line(4,6)\n",
    "\n",
    "# function that takes certain assignments as 1 positional argument\n",
    "def print_line_1(**name):\n",
    "    return name\n",
    "print_line_1(x=1,y=2,z=3)"
   ]
  },
  {
   "cell_type": "code",
   "execution_count": 7,
   "metadata": {},
   "outputs": [
    {
     "name": "stdout",
     "output_type": "stream",
     "text": [
      "(1, 2, 3)\n",
      "{'a': 4, 'b': 5}\n",
      "(1, 2, 3)\n",
      "{'a': 4, 'b': 5, 'c': 6}\n"
     ]
    }
   ],
   "source": [
    "def all_the_ar(*value, **key):\n",
    "    print(value)\n",
    "    print(key)\n",
    "all_the_ar(1,2,3,a=4,b=5)\n",
    "\n",
    "# or\n",
    "tuple_1=(1,2,3)\n",
    "dict_1={'a':4,'b':5,'c':6}\n",
    "all_the_ar(*tuple_1, **dict_1)"
   ]
  },
  {
   "cell_type": "code",
   "execution_count": 9,
   "metadata": {},
   "outputs": [
    {
     "data": {
      "text/plain": [
       "(2, 1)"
      ]
     },
     "execution_count": 9,
     "metadata": {},
     "output_type": "execute_result"
    }
   ],
   "source": [
    "# return multiple value with tuple assessment\n",
    "def swap_1(x,y):\n",
    "    return y, x\n",
    "swap_1(1,2)"
   ]
  },
  {
   "cell_type": "code",
   "execution_count": 22,
   "metadata": {},
   "outputs": [
    {
     "name": "stdout",
     "output_type": "stream",
     "text": [
      "5\n",
      "6\n",
      "6\n"
     ]
    }
   ],
   "source": [
    "# global, local scope\n",
    "x = 5 # global\n",
    "def set_global_x(num):\n",
    "    global x\n",
    "    print(x)\n",
    "    x = num # global x is now set to 6\n",
    "    print(num)\n",
    "    \n",
    "set_global_x(6)\n",
    "print(x) # => x == 6"
   ]
  },
  {
   "cell_type": "markdown",
   "metadata": {},
   "source": [
    "# First class function: function treated as an argument, can be parsed as argument to higher order function\n",
    "    higher order function: means function returning other functions or take in those functions as arguments"
   ]
  },
  {
   "cell_type": "code",
   "execution_count": 28,
   "metadata": {},
   "outputs": [
    {
     "name": "stdout",
     "output_type": "stream",
     "text": [
      "6\n"
     ]
    }
   ],
   "source": [
    "# first class function\n",
    "def create_add(x):\n",
    "    def add(y):\n",
    "        return x + y\n",
    "    return add\n",
    "add = create_add(3)\n",
    "add(2)\n",
    "print(add(3))\n",
    "\n"
   ]
  }
 ],
 "metadata": {
  "kernelspec": {
   "display_name": "Python 3",
   "language": "python",
   "name": "python3"
  },
  "language_info": {
   "codemirror_mode": {
    "name": "ipython",
    "version": 3
   },
   "file_extension": ".py",
   "mimetype": "text/x-python",
   "name": "python",
   "nbconvert_exporter": "python",
   "pygments_lexer": "ipython3",
   "version": "3.11.4"
  }
 },
 "nbformat": 4,
 "nbformat_minor": 2
}
