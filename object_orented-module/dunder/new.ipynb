{
 "cells": [
  {
   "cell_type": "code",
   "execution_count": 1,
   "metadata": {},
   "outputs": [
    {
     "data": {
      "text/plain": [
       "<__main__.class_name at 0x1aeb5bf0f50>"
      ]
     },
     "execution_count": 1,
     "metadata": {},
     "output_type": "execute_result"
    }
   ],
   "source": [
    "# __new__ method: a static method being called when object is created( when class is called also) -> to create/instantiate and return an instance of class\n",
    "# __init__ method: being called to initialize the object (assign initial exclusive attributes of the called upon class ) \n",
    "\n",
    " \n",
    "class class_name:\n",
    "    def __new__(cls, *arg, **kwarg):\n",
    "        return super(class_name, cls).__new__(cls, *arg, **kwarg)\n",
    "    \n",
    "class_name()"
   ]
  },
  {
   "cell_type": "code",
   "execution_count": 3,
   "metadata": {},
   "outputs": [
    {
     "name": "stdout",
     "output_type": "stream",
     "text": [
      "instance of class\n",
      "initialization\n",
      "<__main__.A object at 0x00000226CF3D1510>\n"
     ]
    }
   ],
   "source": [
    "# both __new__ and __init__ method within a class\n",
    "# __new__ will be executed first and decide whether __init__ is executed or not, __init__ is only activated upon receiving the returning result from __new__, over self parameter\n",
    "\n",
    "\n",
    "class A(object):\n",
    "    def __new__(cls):\n",
    "        print('instance of class')\n",
    "        return super(A, cls).__new__(cls)\n",
    "    # __init__ is called \n",
    "    def __init__(self):\n",
    "        print('initialization')\n",
    "        \n",
    "print(A())"
   ]
  },
  {
   "cell_type": "code",
   "execution_count": 6,
   "metadata": {},
   "outputs": [
    {
     "name": "stdout",
     "output_type": "stream",
     "text": [
      "instance of class\n",
      "None\n"
     ]
    }
   ],
   "source": [
    "class A(object):\n",
    "    def __new__(cls):\n",
    "        print('instance of class')\n",
    "    # __init__ is not called - the constructor above doesn't return anything\n",
    "    def __init(self):\n",
    "        print('init is created')\n",
    "\n",
    "print(A()) "
   ]
  },
  {
   "cell_type": "code",
   "execution_count": 14,
   "metadata": {},
   "outputs": [
    {
     "name": "stdout",
     "output_type": "stream",
     "text": [
      "creating instance\n",
      "GeekforGeek\n",
      "initialized instance\n"
     ]
    },
    {
     "ename": "TypeError",
     "evalue": "__init__() should return None, not 'str'",
     "output_type": "error",
     "traceback": [
      "\u001b[1;31m---------------------------------------------------------------------------\u001b[0m",
      "\u001b[1;31mTypeError\u001b[0m                                 Traceback (most recent call last)",
      "Cell \u001b[1;32mIn[14], line 12\u001b[0m\n\u001b[0;32m      9\u001b[0m         \u001b[38;5;28;01mreturn\u001b[39;00m \u001b[38;5;124m'\u001b[39m\u001b[38;5;124minitialization\u001b[39m\u001b[38;5;124m'\u001b[39m\n\u001b[0;32m     11\u001b[0m \u001b[38;5;28mprint\u001b[39m(A())\n\u001b[1;32m---> 12\u001b[0m \u001b[38;5;28mprint\u001b[39m(\u001b[43mB\u001b[49m\u001b[43m(\u001b[49m\u001b[43m)\u001b[49m)\n",
      "\u001b[1;31mTypeError\u001b[0m: __init__() should return None, not 'str'"
     ]
    }
   ],
   "source": [
    "# what if both __new__, __init__ return something\n",
    "class A(object):\n",
    "    def __new__(cls):\n",
    "        print('creating instance')\n",
    "        return 'GeekforGeek'\n",
    "class B(object):\n",
    "    def __init__(self): \n",
    "        print('initialized instance')\n",
    "        return 'initialization'\n",
    "    \n",
    "print(A()) \n",
    "print(B())\n",
    "\n",
    "# this creates error(__init__() should return None, not 'str'), since __init__ purpose is only to alter the fresh state of just newly created instance"
   ]
  },
  {
   "cell_type": "code",
   "execution_count": 15,
   "metadata": {},
   "outputs": [
    {
     "name": "stdout",
     "output_type": "stream",
     "text": [
      "GeekforGeek\n"
     ]
    }
   ],
   "source": [
    "class Geekforgeek(object):\n",
    "    def __str__(self):\n",
    "        return \"GeekforGeek\"\n",
    "    \n",
    "class Geek(object):\n",
    "    def __new__(str):\n",
    "        return Geekforgeek()\n",
    "    def __init__(self):\n",
    "        print('inside init')\n",
    "    \n",
    "print(Geek())"
   ]
  }
 ],
 "metadata": {
  "kernelspec": {
   "display_name": "Python 3",
   "language": "python",
   "name": "python3"
  },
  "language_info": {
   "codemirror_mode": {
    "name": "ipython",
    "version": 3
   },
   "file_extension": ".py",
   "mimetype": "text/x-python",
   "name": "python",
   "nbconvert_exporter": "python",
   "pygments_lexer": "ipython3",
   "version": "3.11.4"
  }
 },
 "nbformat": 4,
 "nbformat_minor": 2
}
