{
 "cells": [
  {
   "cell_type": "code",
   "execution_count": 4,
   "metadata": {},
   "outputs": [
    {
     "name": "stdout",
     "output_type": "stream",
     "text": [
      "False\n"
     ]
    }
   ],
   "source": [
    "class distance:\n",
    "    def __init__(self, feet = None, inch = None):\n",
    "        self.feet = feet\n",
    "        self.inch = inch\n",
    "        \n",
    "    def __ge__(self, x): # invoked when operator >= is used\n",
    "        val1 = self.feet*12 + self.inch\n",
    "        val2 = x.feet*12 + x.inch\n",
    "        if val1 >= val2:\n",
    "            return True\n",
    "        else:\n",
    "            return False\n",
    "        \n",
    "x = distance(2,1)\n",
    "y = distance(4,10)\n",
    "print(x>=y)"
   ]
  }
 ],
 "metadata": {
  "kernelspec": {
   "display_name": "Python 3",
   "language": "python",
   "name": "python3"
  },
  "language_info": {
   "codemirror_mode": {
    "name": "ipython",
    "version": 3
   },
   "file_extension": ".py",
   "mimetype": "text/x-python",
   "name": "python",
   "nbconvert_exporter": "python",
   "pygments_lexer": "ipython3",
   "version": "3.11.4"
  }
 },
 "nbformat": 4,
 "nbformat_minor": 2
}
