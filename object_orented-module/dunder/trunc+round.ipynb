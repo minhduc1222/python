{
 "cells": [
  {
   "cell_type": "code",
   "execution_count": 6,
   "metadata": {},
   "outputs": [
    {
     "name": "stdout",
     "output_type": "stream",
     "text": [
      "-3\n",
      "3\n"
     ]
    }
   ],
   "source": [
    "# truncate(round down to smaller modulus): behave like a ceiling function for positive number and flooring function for negative number\n",
    "\n",
    "import math\n",
    "print(math.trunc(-3.2))\n",
    "print(math.trunc(3.2))\n",
    "\n"
   ]
  },
  {
   "cell_type": "code",
   "execution_count": 8,
   "metadata": {},
   "outputs": [
    {
     "name": "stdout",
     "output_type": "stream",
     "text": [
      "123.2234\n"
     ]
    }
   ],
   "source": [
    "# round (return the value rounded to the decimal place as input into second parameter - if not, rounded to the nearest integer)\n",
    "\n",
    "\n",
    "number = 123.2234322\n",
    "number = round(number=number, ndigits=4)\n",
    "print(number)\n"
   ]
  },
  {
   "cell_type": "code",
   "execution_count": 10,
   "metadata": {},
   "outputs": [
    {
     "name": "stdout",
     "output_type": "stream",
     "text": [
      "-3\n",
      "-4\n",
      "-3\n",
      "6\n",
      "10\n"
     ]
    }
   ],
   "source": [
    "# negative, positive number \n",
    "print(round(-3.2))\n",
    "print(round(-4.3))\n",
    "print(round(-2.7))   \n",
    "print(round(5.6))\n",
    "print(round(10.2)) \n"
   ]
  },
  {
   "cell_type": "code",
   "execution_count": 11,
   "metadata": {},
   "outputs": [
    {
     "name": "stdout",
     "output_type": "stream",
     "text": [
      "0.3333333333333333\n",
      "0.33\n"
     ]
    }
   ],
   "source": [
    " # practical application-dealing with mismatch between fractions and decimals\n",
    "b = 1/3\n",
    "print(b)\n",
    "print(round(b, 2))    "
   ]
  }
 ],
 "metadata": {
  "kernelspec": {
   "display_name": "Python 3",
   "language": "python",
   "name": "python3"
  },
  "language_info": {
   "codemirror_mode": {
    "name": "ipython",
    "version": 3
   },
   "file_extension": ".py",
   "mimetype": "text/x-python",
   "name": "python",
   "nbconvert_exporter": "python",
   "pygments_lexer": "ipython3",
   "version": "3.11.4"
  }
 },
 "nbformat": 4,
 "nbformat_minor": 2
}
