{
 "cells": [
  {
   "cell_type": "code",
   "execution_count": 8,
   "metadata": {},
   "outputs": [
    {
     "name": "stdout",
     "output_type": "stream",
     "text": [
      "Foo 12\n"
     ]
    },
    {
     "ename": "TypeError",
     "evalue": "unsupported operand type(s) for *: 'Bar' and 'Foo'",
     "output_type": "error",
     "traceback": [
      "\u001b[1;31m---------------------------------------------------------------------------\u001b[0m",
      "\u001b[1;31mTypeError\u001b[0m                                 Traceback (most recent call last)",
      "Cell \u001b[1;32mIn[8], line 22\u001b[0m\n\u001b[0;32m     20\u001b[0m b \u001b[38;5;241m=\u001b[39m Bar(\u001b[38;5;241m4\u001b[39m)\n\u001b[0;32m     21\u001b[0m \u001b[38;5;28mprint\u001b[39m(f \u001b[38;5;241m*\u001b[39m b)\n\u001b[1;32m---> 22\u001b[0m \u001b[38;5;28mprint\u001b[39m(\u001b[43mb\u001b[49m\u001b[43m \u001b[49m\u001b[38;5;241;43m*\u001b[39;49m\u001b[43m \u001b[49m\u001b[43mf\u001b[49m)\n",
      "\u001b[1;31mTypeError\u001b[0m: unsupported operand type(s) for *: 'Bar' and 'Foo'"
     ]
    }
   ],
   "source": [
    "class Foo(object):\n",
    "    def __init__(self, val):\n",
    "        self.val = val\n",
    "        \n",
    "    def __mul__(self, other): # look into the left\n",
    "        return Foo(self.val * other.val)\n",
    "    \n",
    "    def __str__(self):\n",
    "        return \"Foo %d\" % self.val # insert, potentially format an integer\n",
    "    \n",
    "class Bar(object):\n",
    "    def __init__(self, val):\n",
    "        self.val = val\n",
    "\n",
    "    def __str__(self):\n",
    "        return \"Bar %d\" % self.val\n",
    "    \n",
    "\n",
    "f = Foo(3)\n",
    "b = Bar(4)\n",
    "print(f * b) # look into the left of the operand(*) (operand: expression(phan tu-toan hang) used to perform an operation) for the present of __mul__ (f)\n",
    "print(b * f) # b object doesn't have method __mul__ -> raise error\n"
   ]
  },
  {
   "cell_type": "code",
   "execution_count": null,
   "metadata": {},
   "outputs": [],
   "source": [
    "class foo(object):\n",
    "    def __init__(self, val):\n",
    "        self.val = val\n",
    "    \n",
    "    def __str__(self):\n",
    "        return \" foo %d \" % self.val\n",
    "    \n",
    "class Bar(object):\n",
    "    def __init__(self, val):\n",
    "        self.val = val\n",
    "        \n",
    "    def __rmul__(self, other):\n",
    "        return (self.val * other.val) # look into the right\n",
    "    \n",
    "    def __str__(self):\n",
    "        return \"Bar %d\" % self.val\n",
    "\n",
    "f = Foo(3)\n",
    "b = Bar(4)\n",
    "print(f * b) # look into the right of the operand(*) (operand: expression used to perform an operation) for the present of __mul__ (f)\n",
    "print(b * f) # f object doesn't have method __mul__ -> raise error"
   ]
  },
  {
   "cell_type": "code",
   "execution_count": null,
   "metadata": {},
   "outputs": [],
   "source": [
    "# perform a multiplication with both normal and reversed operand\n",
    "class foo(object):\n",
    "    def __init__(self, val):\n",
    "        self.val = val\n",
    "    \n",
    "    def __str__(self):\n",
    "        return \" foo %d \" % self.val\n",
    "    \n",
    "class Bar(object):\n",
    "    def __init__(self, val):\n",
    "        self.val = val\n",
    "        \n",
    "    def __mul__(self, other):\n",
    "        return (self.val * other.val) # look into the left\n",
    "    \n",
    "    def __rmul__(self, other):\n",
    "        return (self.val * other.val) # look into the right\n",
    "    \n",
    "    def __str__(self):\n",
    "        return \"Bar %d\" % self.val\n",
    "    \n",
    "f = Foo(3)\n",
    "b = Bar(4)\n",
    "print(f * b)\n",
    "print(b * f)"
   ]
  }
 ],
 "metadata": {
  "kernelspec": {
   "display_name": "Python 3",
   "language": "python",
   "name": "python3"
  },
  "language_info": {
   "codemirror_mode": {
    "name": "ipython",
    "version": 3
   },
   "file_extension": ".py",
   "mimetype": "text/x-python",
   "name": "python",
   "nbconvert_exporter": "python",
   "pygments_lexer": "ipython3",
   "version": "3.11.4"
  }
 },
 "nbformat": 4,
 "nbformat_minor": 2
}
