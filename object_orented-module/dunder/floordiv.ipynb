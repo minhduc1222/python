{
 "cells": [
  {
   "cell_type": "code",
   "execution_count": 6,
   "metadata": {},
   "outputs": [
    {
     "name": "stdout",
     "output_type": "stream",
     "text": [
      "5\n",
      "higeek\n",
      "5\n",
      "4\n",
      "5\n",
      "4\n"
     ]
    }
   ],
   "source": [
    "class A:\n",
    "    def __init__(self, a):\n",
    "        self.a = a\n",
    "    \n",
    "    def __add__(self, add):\n",
    "        return add + self.a\n",
    "    \n",
    "obj1 = A(2)\n",
    "obj2 = A(3)\n",
    "\n",
    "obj3 = A('hi')\n",
    "obj4 = A('geek')\n",
    "\n",
    "print(obj1 + obj2)\n",
    "print(obj3 + obj4)\n",
    "\n",
    "# or\n",
    "print(A.__add__(obj1, obj2))\n",
    "print(A.__add__(obj1, obj1))\n",
    "\n",
    "print(obj1.__add__(obj2))\n",
    "print(obj1.__add__(obj1))\n",
    "\n"
   ]
  },
  {
   "cell_type": "code",
   "execution_count": 7,
   "metadata": {},
   "outputs": [
    {
     "name": "stdout",
     "output_type": "stream",
     "text": [
      "(7, 7)\n"
     ]
    }
   ],
   "source": [
    "# addition of two complex numbers\n",
    "class complex:\n",
    "    def __init__(self, a, b):\n",
    "        self.a = a\n",
    "        self.b = b\n",
    "    \n",
    "    def __add__(self, other):\n",
    "        return other.a + self.a, other.b + self.b\n",
    "    \n",
    "x = complex(3,5)\n",
    "y = complex(4,2)\n",
    "print(x+y)\n",
    "    "
   ]
  },
  {
   "cell_type": "code",
   "execution_count": 8,
   "metadata": {},
   "outputs": [
    {
     "name": "stdout",
     "output_type": "stream",
     "text": [
      "True\n",
      "True\n",
      "False\n",
      "False\n"
     ]
    }
   ],
   "source": [
    "# python program to overload(way to define functions with the same name to do different actions based on the parameter input) a comparison operator\n",
    "# here it specifies how objects of class be compared or how the result is\n",
    "# -> overload: be interpreted as the expansion of comparator method scale( not only bound to dealing with int, str)\n",
    "\n",
    "\n",
    "class A:\n",
    "    def __init__(self, a):\n",
    "        self.a = a\n",
    "    \n",
    "    def __gt__(self, other):\n",
    "        if self.a > other.a:\n",
    "            return True\n",
    "        else:\n",
    "            return False\n",
    "        \n",
    "    def __eq__(self, other):\n",
    "        if self.a == other.a:\n",
    "            return True\n",
    "        else:\n",
    "            return False\n",
    "        \n",
    "    def __lt__(self, other):\n",
    "        if self.a < other.a:\n",
    "            return True\n",
    "        else:\n",
    "            return False\n",
    "    \n",
    "    def __le__(self, other):\n",
    "        if self.a <= other.a:\n",
    "            return True\n",
    "        else:\n",
    "            return False\n",
    "        \n",
    "obj1 = A(1)\n",
    "obj2 = A(2)\n",
    "print(obj1 < obj2)\n",
    "print(obj1 <= obj2)\n",
    "print(obj1 == obj2)\n",
    "print(obj1 > obj2)\n",
    "\n",
    "    "
   ]
  }
 ],
 "metadata": {
  "kernelspec": {
   "display_name": "Python 3",
   "language": "python",
   "name": "python3"
  },
  "language_info": {
   "codemirror_mode": {
    "name": "ipython",
    "version": 3
   },
   "file_extension": ".py",
   "mimetype": "text/x-python",
   "name": "python",
   "nbconvert_exporter": "python",
   "pygments_lexer": "ipython3",
   "version": "3.11.4"
  }
 },
 "nbformat": 4,
 "nbformat_minor": 2
}
