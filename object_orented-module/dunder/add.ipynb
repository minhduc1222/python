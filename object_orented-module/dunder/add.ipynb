{
 "cells": [
  {
   "cell_type": "code",
   "execution_count": 2,
   "metadata": {},
   "outputs": [
    {
     "name": "stdout",
     "output_type": "stream",
     "text": [
      "<__main__.GFG object at 0x000001B9EFE96E50>\n",
      "<__main__.GFG object at 0x000001B9EFE9B990>\n",
      "<__main__.GFG object at 0x000001B9EFE96E50>\n",
      "helloworld\n"
     ]
    }
   ],
   "source": [
    "# add two object, return the new object as the result\n",
    "\n",
    "class GFG:\n",
    "    def __init__(self, val):\n",
    "        self.val = val\n",
    "        \n",
    "    def __add__(self, add):\n",
    "        print(add)\n",
    "        return GFG(self.val + add.val)\n",
    "    \n",
    "object1 = GFG('hello')\n",
    "object2 = GFG('world')\n",
    "object3 = object1 + object2 \n",
    "print(object1)\n",
    "print(object2)\n",
    "\n",
    "print(object3.val)\n",
    "\n",
    "# if __add__ method is not been added, error (unsupported operand type (s) for +) would be raised"
   ]
  },
  {
   "cell_type": "code",
   "execution_count": 5,
   "metadata": {},
   "outputs": [
    {
     "name": "stdout",
     "output_type": "stream",
     "text": [
      "d1: 8, d2: 3\n"
     ]
    }
   ],
   "source": [
    "# another example (create a adding system between 2 relating units (feet and inch))\n",
    "\n",
    "class distance:\n",
    "    def __init__(self, feet=None, inch=None):\n",
    "        self.ft = feet\n",
    "        self.inc = inch\n",
    "        \n",
    "    def __add__(self, x):\n",
    "        temp = distance()\n",
    "        temp.ft = self.ft + x.ft\n",
    "        temp.inc = self.inc + x.inc\n",
    "        if temp.inc > 12:\n",
    "            temp.ft +=1\n",
    "            temp.inc -=12\n",
    "            return temp\n",
    "        \n",
    "    def __str__(self):\n",
    "        return f'd1: {self.ft}, d2: {self.inc}'\n",
    "    \n",
    "d1 = distance(4,4)\n",
    "d2 = distance(3,11)\n",
    "d3 = d1 + d2\n",
    "print(d3)"
   ]
  }
 ],
 "metadata": {
  "kernelspec": {
   "display_name": "Python 3",
   "language": "python",
   "name": "python3"
  },
  "language_info": {
   "codemirror_mode": {
    "name": "ipython",
    "version": 3
   },
   "file_extension": ".py",
   "mimetype": "text/x-python",
   "name": "python",
   "nbconvert_exporter": "python",
   "pygments_lexer": "ipython3",
   "version": "3.11.4"
  }
 },
 "nbformat": 4,
 "nbformat_minor": 2
}
