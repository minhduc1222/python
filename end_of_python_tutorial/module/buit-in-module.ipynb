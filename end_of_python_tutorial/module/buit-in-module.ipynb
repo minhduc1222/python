{
 "cells": [
  {
   "cell_type": "code",
   "execution_count": 1,
   "metadata": {},
   "outputs": [
    {
     "name": "stdout",
     "output_type": "stream",
     "text": [
      "['_Processor', '_WIN32_CLIENT_RELEASES', '_WIN32_SERVER_RELEASES', '__builtins__', '__cached__', '__copyright__', '__doc__', '__file__', '__loader__', '__name__', '__package__', '__spec__', '__version__', '_comparable_version', '_component_re', '_default_architecture', '_follow_symlinks', '_get_machine_win32', '_ironpython26_sys_version_parser', '_ironpython_sys_version_parser', '_java_getprop', '_libc_search', '_mac_ver_xml', '_node', '_norm_version', '_os_release_cache', '_os_release_candidates', '_os_release_line', '_os_release_unescape', '_parse_os_release', '_platform', '_platform_cache', '_pypy_sys_version_parser', '_sys_version', '_sys_version_cache', '_sys_version_parser', '_syscmd_file', '_syscmd_ver', '_uname_cache', '_unknown_as_blank', '_ver_output', '_ver_stages', 'architecture', 'collections', 'freedesktop_os_release', 'functools', 'itertools', 'java_ver', 'libc_ver', 'mac_ver', 'machine', 'node', 'os', 'platform', 'processor', 'python_branch', 'python_build', 'python_compiler', 'python_implementation', 'python_revision', 'python_version', 'python_version_tuple', 're', 'release', 'sys', 'system', 'system_alias', 'uname', 'uname_result', 'version', 'win32_edition', 'win32_is_iot', 'win32_ver']\n"
     ]
    }
   ],
   "source": [
    "import platform as pl\n",
    "print(dir(pl))"
   ]
  },
  {
   "cell_type": "code",
   "execution_count": 17,
   "metadata": {},
   "outputs": [
    {
     "name": "stdout",
     "output_type": "stream",
     "text": [
      "2023-12-28 10:29:53.229497\n",
      "2023\n",
      "Thursday\n",
      "10\n",
      "29\n",
      "53\n",
      "Thursday\n",
      "October\n",
      "2020\n"
     ]
    }
   ],
   "source": [
    "import datetime as dt\n",
    "x = dt.datetime.now()\n",
    "print(x)\n",
    "print(x.year)\n",
    "print(x.strftime(\"%A\"))\n",
    "print(x.strftime(\"%H\")) # hour\n",
    "print(x.strftime(\"%M\"))\n",
    "print(x.strftime(\"%S\"))\n",
    "object = dt.datetime(2020, 10,29)\n",
    "print(object.strftime(\"%A\")) # weekday(full version)\n",
    "print(object.strftime(\"%B\")) # monthname(full version)\n",
    "print(object.strftime(\"%Y\"))\n",
    "\n",
    "\n"
   ]
  },
  {
   "cell_type": "code",
   "execution_count": 26,
   "metadata": {},
   "outputs": [
    {
     "name": "stdout",
     "output_type": "stream",
     "text": [
      "3.141592653589793\n",
      "8.0\n",
      "64.0\n",
      "3\n",
      "2\n"
     ]
    }
   ],
   "source": [
    "import math \n",
    "print(math.pi)\n",
    "print(math.sqrt(64))\n",
    "print(math.pow(8,2))\n",
    "\n",
    "print(math.ceil(2.4)) # round a number upward to its nearest integer\n",
    "print(math.floor(2.2)) "
   ]
  },
  {
   "cell_type": "code",
   "execution_count": 52,
   "metadata": {},
   "outputs": [
    {
     "name": "stdout",
     "output_type": "stream",
     "text": [
      "30\n",
      "<class 'dict'>\n",
      "{\"name\": \"delta\", \"age\": 18, \"address\": \"CauGiay district\"}\n",
      "<class 'str'>\n"
     ]
    }
   ],
   "source": [
    "import json\n",
    "# convert thing into object (readable form)-bytestream, str representation (enable it to be preserved, be transferred across network)\n",
    "\n",
    "x = '{\"name\":\"abc\", \"age\":30,\"city\": \"Manchester\"}' # a json string\n",
    "\n",
    "y = json.loads(x) # parsed using loads()\n",
    "print(y[\"age\"])\n",
    "\n",
    "# convert into json string\n",
    "me ={'name': 'delta',\n",
    "     'age': 18,\n",
    "     'address': 'CauGiay district'}\n",
    "\n",
    "print(type(me))\n",
    "json_object = json.dumps(me)\n",
    "print(json_object)\n",
    "print(type(json_object))"
   ]
  },
  {
   "cell_type": "code",
   "execution_count": 53,
   "metadata": {},
   "outputs": [
    {
     "name": "stdout",
     "output_type": "stream",
     "text": [
      "12\n",
      "12.33\n",
      "\"asda\"\n",
      "true\n",
      "[1, 2, 3]\n",
      "[1, 2, 3]\n",
      "{\"a\": 1, \"b\": 2}\n"
     ]
    }
   ],
   "source": [
    "# convert all data type instances(objects) into json string - synchronization\n",
    "import json\n",
    "print(json.dumps(12))\n",
    "print(json.dumps(12.33))\n",
    "print(json.dumps('asda'))\n",
    "print(json.dumps(True))\n",
    "print(json.dumps(None))\n",
    "print(json.dumps((1,2,3)))\n",
    "print(json.dumps([1,2,3]))\n",
    "print(json.dumps({'a':1, 'b':2}))\n"
   ]
  },
  {
   "cell_type": "code",
   "execution_count": 60,
   "metadata": {},
   "outputs": [
    {
     "name": "stdout",
     "output_type": "stream",
     "text": [
      "{\"name\": \"Duc\", \"age\": 18, \"married\": true, \"divorced\": false, \"children\": 0, \"pet\": 1, \"vehicle\": 1}\n",
      "{\n",
      "   \"name\": \"Duc\",\n",
      "   \"age\": 18,\n",
      "   \"married\": true,\n",
      "   \"divorced\": false,\n",
      "   \"children\": [\n",
      "      \"an\",\n",
      "      \"anh\"\n",
      "   ],\n",
      "   \"pet\": 1,\n",
      "   \"vehicle\": [\n",
      "      {\n",
      "         \"model\": \"BMW230\",\n",
      "         \"mgm\": \"27.5\"\n",
      "      },\n",
      "      {\n",
      "         \"model\": \"Ford-Edge\",\n",
      "         \"mgm\": \"24.1\"\n",
      "      }\n",
      "   ]\n",
      "}\n",
      "\n",
      "{\n",
      "   \"name\"= \"Duc\", \n",
      "   \"age\"= 18, \n",
      "   \"married\"= true, \n",
      "   \"divorced\"= false, \n",
      "   \"children\"= [\n",
      "      \"an\", \n",
      "      \"anh\"\n",
      "   ], \n",
      "   \"pet\"= 1, \n",
      "   \"vehicle\"= [\n",
      "      {\n",
      "         \"model\"= \"BMW230\", \n",
      "         \"mgm\"= \"27.5\"\n",
      "      }, \n",
      "      {\n",
      "         \"model\"= \"Ford-Edge\", \n",
      "         \"mgm\"= \"24.1\"\n",
      "      }\n",
      "   ]\n",
      "}\n"
     ]
    }
   ],
   "source": [
    "# convert a python objects containing all legal data types\n",
    "x = {'name': 'Duc',\n",
    "     'age': 18,\n",
    "     'married': True,\n",
    "     'divorced': False,\n",
    "     'children': 0,\n",
    "     'pet': 1,\n",
    "     'vehicle': 1}\n",
    "\n",
    "cv_x = json.dumps(x)\n",
    "print(cv_x)\n",
    "x = {'name': 'Duc',\n",
    "     'age': 18,\n",
    "     'married': True,\n",
    "     'divorced': False,\n",
    "     'children': ('an', 'anh'),\n",
    "     'pet': 1,\n",
    "     'vehicle': [{'model': 'BMW230', 'mgm': '27.5'},\n",
    "                 {'model': 'Ford-Edge', 'mgm': '24.1'}]}\n",
    "\n",
    "a_cv_x = json.dumps(x, indent=3)\n",
    "\n",
    "print(a_cv_x)\n",
    "\n"
   ]
  },
  {
   "cell_type": "code",
   "execution_count": 67,
   "metadata": {},
   "outputs": [
    {
     "name": "stdout",
     "output_type": "stream",
     "text": [
      "{\n",
      "   \"name\"= \"Duc\", \n",
      "   \"age\"= 18, \n",
      "   \"married\"= true, \n",
      "   \"divorced\"= false, \n",
      "   \"children\"= [\n",
      "      \"an\", \n",
      "      \"anh\"\n",
      "   ], \n",
      "   \"pet\"= 1, \n",
      "   \"vehicle\"= [\n",
      "      {\n",
      "         \"model\"= \"BMW230\", \n",
      "         \"mgm\"= \"27.5\"\n",
      "      }, \n",
      "      {\n",
      "         \"model\"= \"Ford-Edge\", \n",
      "         \"mgm\"= \"24.1\"\n",
      "      }\n",
      "   ]\n",
      "}\n"
     ]
    }
   ],
   "source": [
    "a1_cv_x = json.dumps(x, indent=3, separators=(', ','= ')) # , and a space separate each object, = and a space separate key from value\n",
    "print(a1_cv_x) \n",
    "# a2_cv_x = json.dumps(x, indent = 4, sort_keys=True) currently not working"
   ]
  }
 ],
 "metadata": {
  "kernelspec": {
   "display_name": "Python 3",
   "language": "python",
   "name": "python3"
  },
  "language_info": {
   "codemirror_mode": {
    "name": "ipython",
    "version": 3
   },
   "file_extension": ".py",
   "mimetype": "text/x-python",
   "name": "python",
   "nbconvert_exporter": "python",
   "pygments_lexer": "ipython3",
   "version": "3.11.4"
  }
 },
 "nbformat": 4,
 "nbformat_minor": 2
}
