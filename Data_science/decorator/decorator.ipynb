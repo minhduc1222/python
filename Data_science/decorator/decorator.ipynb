{
 "cells": [
  {
   "cell_type": "code",
   "execution_count": 12,
   "metadata": {},
   "outputs": [
    {
     "name": "stdout",
     "output_type": "stream",
     "text": [
      "8\n",
      "6\n"
     ]
    }
   ],
   "source": [
    "def enhance_number():\n",
    "    def plus_one(n):\n",
    "        return n+1\n",
    "    return plus_one\n",
    "\n",
    "x = enhance_number()(7)\n",
    "print(x)\n",
    "y = enhance_number()\n",
    "print(y(5))"
   ]
  },
  {
   "cell_type": "code",
   "execution_count": 4,
   "metadata": {},
   "outputs": [
    {
     "data": {
      "text/plain": [
       "6"
      ]
     },
     "execution_count": 4,
     "metadata": {},
     "output_type": "execute_result"
    }
   ],
   "source": [
    "def plus_one(n):\n",
    "    def add_one():\n",
    "        return n+1\n",
    "    result = add_one()\n",
    "    return result\n",
    "\n",
    "plus_one(5)"
   ]
  },
  {
   "cell_type": "code",
   "execution_count": 1,
   "metadata": {},
   "outputs": [
    {
     "name": "stdout",
     "output_type": "stream",
     "text": [
      "6\n"
     ]
    }
   ],
   "source": [
    "# passing function as argument to another function\n",
    "\n",
    "def plus_one(n):\n",
    "    return n + 1\n",
    "\n",
    "def add_number(function):\n",
    "    number = 5\n",
    "    return function(number)\n",
    "\n",
    "print(add_number(plus_one))"
   ]
  },
  {
   "cell_type": "code",
   "execution_count": 3,
   "metadata": {},
   "outputs": [
    {
     "data": {
      "text/plain": [
       "'hi'"
      ]
     },
     "execution_count": 3,
     "metadata": {},
     "output_type": "execute_result"
    }
   ],
   "source": [
    "# functions returning other functions\n",
    "def say_st():\n",
    "    def say_hi():\n",
    "        return 'hi'\n",
    "    return say_hi\n",
    "\n",
    "say = say_st()\n",
    "say()"
   ]
  },
  {
   "cell_type": "code",
   "execution_count": 5,
   "metadata": {},
   "outputs": [
    {
     "name": "stdout",
     "output_type": "stream",
     "text": [
      "hi\n"
     ]
    }
   ],
   "source": [
    "# nested function accesses to enclosing function's variable scope\n",
    "\n",
    "def print_mes(message):\n",
    "    # enclosing function\n",
    "    def mes_sender():\n",
    "        print(message) # access variable that locates out of the function's scope\n",
    "    return mes_sender()\n",
    "\n",
    "print_mes('hi')"
   ]
  },
  {
   "cell_type": "code",
   "execution_count": 34,
   "metadata": {},
   "outputs": [
    {
     "data": {
      "text/plain": [
       "['HELLO', 'WORLD']"
      ]
     },
     "execution_count": 34,
     "metadata": {},
     "output_type": "execute_result"
    }
   ],
   "source": [
    "# creating decorators( assign a function to a variable)\n",
    "\n",
    "# create a decorator by defining a wrapper inside an enclosing function\n",
    "def uppercase_decorator(function):\n",
    "    def wrapper(): # pass the desired decorated function as argument, which then be interpreted by a nested function -> the enclosing(cover) function can return the processed result as a function object that creates that result( enable it to be invoked)\n",
    "        func = function()\n",
    "        new = func.upper()\n",
    "        return new\n",
    "    return wrapper\n",
    "def say_hi():\n",
    "    return 'hi'\n",
    "\n",
    "decorate = uppercase_decorator(say_hi)\n",
    "decorate()\n",
    "\n",
    "# a much easier way to do\n",
    "@uppercase_decorator\n",
    "def say_hello():\n",
    "    return 'hello'\n",
    "\n",
    "say_hello()\n",
    "\n",
    "# apply multi decorators inside a function\n",
    "def split_string(function):\n",
    "    def wrapper():\n",
    "        func = function()\n",
    "        split_str = func.split()\n",
    "        return split_str\n",
    "    return wrapper\n",
    "\n",
    "@split_string # application order of decorators is from the bottom up, means it will invoke the @uppercase_decorator first then @split_string\n",
    "@uppercase_decorator # need to uppercase first then split into elements of a list\n",
    "def say_something():\n",
    "    return 'hello world'\n",
    "say_something()"
   ]
  },
  {
   "cell_type": "code",
   "execution_count": 53,
   "metadata": {},
   "outputs": [
    {
     "name": "stdout",
     "output_type": "stream",
     "text": [
      "i love australia as a country most, the secondly is america\n",
      "my favorite country australia, america\n"
     ]
    }
   ],
   "source": [
    "# accepting argument in decorator functions\n",
    "# passing a function as an argument to the wrapper, the argument then will be passed into the function that is being decorated at call time\n",
    "def decorate_with_argument(function):\n",
    "    def wrapper_accepting(func1, func2):\n",
    "        print(f'i love {func1} as a country most, the secondly is {func2}')\n",
    "        function(func1, func2)\n",
    "    return wrapper_accepting\n",
    "\n",
    "@decorate_with_argument\n",
    "def my_beloved_country(con_one, con_two):\n",
    "    print(f'my favorite country {con_one}, {con_two}')\n",
    "    \n",
    "my_beloved_country('australia', 'america')"
   ]
  },
  {
   "cell_type": "code",
   "execution_count": 70,
   "metadata": {},
   "outputs": [
    {
     "name": "stdout",
     "output_type": "stream",
     "text": [
      "the positional arguments are (1, 2, 3, 4, 5)\n",
      "the keyword are {}\n",
      "the positional arguments are ()\n",
      "the keyword are {'f': 6, 'g': 7, 'h': 8}\n",
      "None\n"
     ]
    }
   ],
   "source": [
    "# defining general purpose decorators( can be applied to any function)\n",
    "# use **kwargs, *args collecting and storing all positional arguments -> allow us to pass any number of arguments during function call\n",
    "\n",
    "def decorator_passing_arbitrary_arg(function):\n",
    "    def wrapper_accepting_arb_arg(*args, **kwargs):\n",
    "        print(f'the positional arguments are {args}')\n",
    "        print(f'the keyword are {kwargs}')\n",
    "\n",
    "        function(*args)\n",
    "    return wrapper_accepting_arb_arg\n",
    "\n",
    "@decorator_passing_arbitrary_arg\n",
    "def function_with_argument(a,b,c,d,e):\n",
    "    return a,b,c,d,e\n",
    "function_with_argument(1,2,3,4,5)\n",
    "\n",
    "@decorator_passing_arbitrary_arg\n",
    "def function_with_keyword_argument():\n",
    "    print('None')\n",
    "function_with_keyword_argument(f=6, g=7,h=8)"
   ]
  }
 ],
 "metadata": {
  "kernelspec": {
   "display_name": "Python 3",
   "language": "python",
   "name": "python3"
  },
  "language_info": {
   "codemirror_mode": {
    "name": "ipython",
    "version": 3
   },
   "file_extension": ".py",
   "mimetype": "text/x-python",
   "name": "python",
   "nbconvert_exporter": "python",
   "pygments_lexer": "ipython3",
   "version": "3.11.4"
  }
 },
 "nbformat": 4,
 "nbformat_minor": 2
}
