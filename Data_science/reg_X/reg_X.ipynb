{
 "cells": [
  {
   "cell_type": "code",
   "execution_count": 76,
   "metadata": {},
   "outputs": [
    {
     "name": "stdout",
     "output_type": "stream",
     "text": [
      "None\n",
      "<re.Match object; span=(0, 4), match='sada'>\n"
     ]
    }
   ],
   "source": [
    "import re\n",
    "\n",
    "pattern = re.compile(\"^[a-z]+\") # ^(anchor tag) : only do the search if the string input starts with the pattern format(start with a-z)\n",
    "\n",
    "print(pattern.search('Asada AAdsdas')) # None\n",
    "print(pattern.search('sadaA Adsdas')) # \n"
   ]
  },
  {
   "cell_type": "code",
   "execution_count": 35,
   "metadata": {},
   "outputs": [
    {
     "name": "stdout",
     "output_type": "stream",
     "text": [
      "None\n",
      "<re.Match object; span=(0, 5), match='asada'>\n"
     ]
    }
   ],
   "source": [
    "import re\n",
    "\n",
    "pattern = re.compile(\"[a-z]+\") \n",
    "\n",
    "#  match doesn't depend on the ^ tag, and it has the same property(only search if the string input starts with the pattern format)\n",
    "print(pattern.match('AsadaA Adsdas')) # None \n",
    "print(pattern.match('asadaAAdsdas')) # "
   ]
  },
  {
   "cell_type": "code",
   "execution_count": 36,
   "metadata": {},
   "outputs": [
    {
     "name": "stdout",
     "output_type": "stream",
     "text": [
      "None\n",
      "None\n"
     ]
    }
   ],
   "source": [
    "import re\n",
    "\n",
    "pattern = re.compile(\"[a-z]+$\") \n",
    "\n",
    "# $: only do the search if the whole string input conforms the pattern format\n",
    "print(pattern.match('AsadaA Adsdas')) # None\n",
    "print(pattern.match('asadaAAdsdas')) # None"
   ]
  },
  {
   "cell_type": "code",
   "execution_count": 75,
   "metadata": {},
   "outputs": [
    {
     "name": "stdout",
     "output_type": "stream",
     "text": [
      "None\n",
      "<re.Match object; span=(0, 13), match='asadaAAdsdasZ'>\n"
     ]
    }
   ],
   "source": [
    "import re\n",
    "\n",
    "pattern = re.compile(\"[A-z]+$\")  # pattern: contain either uppercase or lowercase letters\n",
    "# can start with either uppercase, lowercase\n",
    "print(pattern.match('AsadaA AdsdasdsasadZ')) # None\n",
    "print(pattern.match('asadaAAdsdasZ')) #"
   ]
  },
  {
   "cell_type": "code",
   "execution_count": 94,
   "metadata": {},
   "outputs": [
    {
     "name": "stdout",
     "output_type": "stream",
     "text": [
      "<re.Match object; span=(0, 10), match='dsa0500.KK'>\n"
     ]
    }
   ],
   "source": [
    "import re\n",
    "\n",
    "pattern = re.compile(\"^[a-z]{3}[0-9]{3,5}[^a-zA-Z0-9]{1}[A-Z]{0,2}$\") #[^a-zA-Z] : exclude a-z, A-Z, {3,5} : ranging\n",
    "print(pattern.search(\"dsa0500.KK\"))"
   ]
  },
  {
   "cell_type": "code",
   "execution_count": 97,
   "metadata": {},
   "outputs": [
    {
     "name": "stdout",
     "output_type": "stream",
     "text": [
      "<re.Match object; span=(0, 10), match='dsasasasas'>\n",
      "<re.Match object; span=(0, 10), match='d2aAa@asas'>\n"
     ]
    }
   ],
   "source": [
    "import re\n",
    "\n",
    "pattern = re.compile(\"^.{10}$\") # . : whatever character\n",
    "print(pattern.search(\"dsasasasas\"))\n",
    "print(pattern.search(\"d2aAa@asas\"))\n"
   ]
  }
 ],
 "metadata": {
  "kernelspec": {
   "display_name": "Python 3",
   "language": "python",
   "name": "python3"
  },
  "language_info": {
   "codemirror_mode": {
    "name": "ipython",
    "version": 3
   },
   "file_extension": ".py",
   "mimetype": "text/x-python",
   "name": "python",
   "nbconvert_exporter": "python",
   "pygments_lexer": "ipython3",
   "version": "3.11.4"
  }
 },
 "nbformat": 4,
 "nbformat_minor": 2
}
