{
 "cells": [
  {
   "cell_type": "code",
   "execution_count": 2,
   "metadata": {},
   "outputs": [
    {
     "name": "stdout",
     "output_type": "stream",
     "text": [
      "hello\\nworld\n",
      "hello\n",
      "world\n"
     ]
    }
   ],
   "source": [
    "raw = r'hello\\nworld' # rawstring: when escape character(\"\\n\")'s inserted, doesn't invoke any special meaning relating(the string doesn't process the escape character)\n",
    "print(raw) \n",
    "normal = 'hello\\nworld'\n",
    "print(normal)\n",
    "\n",
    "# normally, there's no difference between raw and normal string,"
   ]
  },
  {
   "cell_type": "markdown",
   "metadata": {},
   "source": [
    "# metacharacter( characters have special meaning and cannot match themselves such as({},[],()), ?, +, $, *)\n",
    "\n",
    "# set a list of character that you want it to match\n",
    "# [abc], [a-z] , [^5]\n",
    "# match any of character a,b,c , match any character that ranges from a to z , match any character except 5"
   ]
  },
  {
   "cell_type": "markdown",
   "metadata": {},
   "source": [
    "# escaping metacharacter (\\), when using some special characters with a \\ added before it, it forms new special sequences\n",
    "# or when you need to match metacharacter, use \\ before it to remove its original special meaning (\\[, \\{)\n",
    "\n",
    "# predefined set of characters represented by such special characters beginning with \\\n",
    "\n",
    "\\d: equivalent to [0-9]\n",
    "\\D: equivalent to [^0-9]\n",
    "\\s: equivalent to [\\t\\r\\n\\f\\v] - match any whitespace character\n",
    "\\S: equivalent to [^\\t\\r\\n\\f\\v] - match any non-whitespace character\n",
    "\\w: equivalent to [a-zAZ0-9_] - match any alphanumeric character\n",
    "\n",
    ". - match with any single character except \\n ( newline)\n",
    "? - match 0/1 occurence of the pattern to the left\n",
    "+ - match 1 occurence of the pattern to the left\n",
    "* - match 0 occurence of the pattern to the left\n",
    "\n",
    "\\b - boundary between word and non-word, \\B has the opposite meaning\n",
    "\n",
    "{n, m} - match at least n and at most m occurence of preceding\n",
    "a | b - match either a or b"
   ]
  },
  {
   "cell_type": "code",
   "execution_count": 5,
   "metadata": {},
   "outputs": [
    {
     "name": "stdout",
     "output_type": "stream",
     "text": [
      "0 4\n",
      "cats\n"
     ]
    }
   ],
   "source": [
    "import re\n",
    "\n",
    "line = \"cats are smaller than dogs\"\n",
    "\n",
    "match_obj = re.match(r'cats', line)\n",
    "\n",
    "print(match_obj.start(), match_obj.end())\n",
    "print(match_obj.group())"
   ]
  },
  {
   "cell_type": "code",
   "execution_count": 24,
   "metadata": {},
   "outputs": [
    {
     "name": "stdout",
     "output_type": "stream",
     "text": [
      "ds\n"
     ]
    }
   ],
   "source": [
    "import re\n",
    "# match(): attempt to match the string from the start with optional flag, if match doesn't happen from the start -> return None\n",
    "line = 'dssss'\n",
    "\n",
    "match_ob = re.match(r'ds', line, flags = 0) # contain the information about the match: where it (the match) starts and ends, whether the substring is matched\n",
    "\n",
    "print(match_ob.group())"
   ]
  },
  {
   "cell_type": "code",
   "execution_count": 25,
   "metadata": {},
   "outputs": [
    {
     "name": "stdout",
     "output_type": "stream",
     "text": [
      "ds\n"
     ]
    }
   ],
   "source": [
    "import re\n",
    "# search(): search for the first occurrence of the match through the whole string with optional flag\n",
    "line = 'ssdssss'\n",
    "search_ob = re.search(r'ds', line, flags = 0)\n",
    "\n",
    "print(search_ob.group())"
   ]
  },
  {
   "cell_type": "code",
   "execution_count": 2,
   "metadata": {},
   "outputs": [
    {
     "name": "stdout",
     "output_type": "stream",
     "text": [
      "['ple', 'ple']\n"
     ]
    }
   ],
   "source": [
    "import re\n",
    "\n",
    "string = \"simple is better than complex\"\n",
    "\n",
    "find_all_ob = re.findall(r'ple', string, flags= 0) # return all the non-overlapping pattern matches in tuple, list of strings form\n",
    "print(find_all_ob)"
   ]
  },
  {
   "cell_type": "code",
   "execution_count": 6,
   "metadata": {},
   "outputs": [
    {
     "name": "stdout",
     "output_type": "stream",
     "text": [
      "['simple', 'is', 'better', 'than', 'complex']\n",
      "['simple', '', 'is', '', 'better', '', 'than', '', 'complex', '']\n"
     ]
    }
   ],
   "source": [
    "import re\n",
    "\n",
    "string = \"simple is better than complex\"\n",
    "\n",
    "find_all_ob = re.findall(r'\\w+', string)\n",
    "print(find_all_ob)\n",
    "\n",
    "find_all_ob = re.findall(r'\\w*', string)\n",
    "print(find_all_ob)"
   ]
  },
  {
   "cell_type": "code",
   "execution_count": 4,
   "metadata": {},
   "outputs": [
    {
     "name": "stdout",
     "output_type": "stream",
     "text": [
      "<re.Match object; span=(6, 13), match='complex'>\n",
      "<re.Match object; span=(44, 51), match='complex'>\n"
     ]
    }
   ],
   "source": [
    "import re\n",
    "\n",
    "string =\"sadas complex simple is better than complex complex\"\n",
    "\n",
    "find = re.search(r'complex', string)\n",
    "print(find)\n",
    "find = re.search(r'complex+$', string)\n",
    "print(find)\n"
   ]
  },
  {
   "cell_type": "code",
   "execution_count": 35,
   "metadata": {},
   "outputs": [
    {
     "name": "stdout",
     "output_type": "stream",
     "text": [
      "0934762341\n"
     ]
    }
   ],
   "source": [
    "import re\n",
    "\n",
    "phone = '0934-762-341'\n",
    "\n",
    "rpl_obj = re.sub(r'\\D+', '', phone) # remove all occurrences of matched strings, substitute them with what is provided in rpl\n",
    "print(rpl_obj)\n"
   ]
  },
  {
   "cell_type": "code",
   "execution_count": 37,
   "metadata": {},
   "outputs": [
    {
     "name": "stdout",
     "output_type": "stream",
     "text": [
      "simple was better than complex\n"
     ]
    }
   ],
   "source": [
    "import re\n",
    "\n",
    "sentence = 'simple is better than complex'\n",
    "\n",
    "rplc_obj = re.sub(r'is', 'was', sentence)\n",
    "print(rplc_obj)"
   ]
  },
  {
   "cell_type": "markdown",
   "metadata": {},
   "source": [
    "# re.I: perform case-insensitive matching\n",
    "\n",
    "# re.L: interpret word according to the current locale?\n",
    "\n",
    "# re.$(the end of line, not just the end of string) + make ^ match the start of any line ( not just the start of the string)\n",
    "\n",
    "# re.S: make period(.) match any character, including newline\n",
    "\n",
    "# re.U: interpret letters according to the Unicode character set, affect behaviors of \\w, \\b\n",
    "\n"
   ]
  },
  {
   "cell_type": "code",
   "execution_count": 41,
   "metadata": {},
   "outputs": [
    {
     "name": "stdout",
     "output_type": "stream",
     "text": [
      "7 9\n",
      "['is']\n",
      "simple was better than complex\n"
     ]
    }
   ],
   "source": [
    "# compile a regular expression pattern into an object, which enable it to access search, match()\n",
    "\n",
    "# using compile will be more efficient when the match pattern's used multiple times\n",
    "\n",
    "import re\n",
    "sentence = \"string is better than complex, complex is better than complicated\"\n",
    "pattern = re.compile(r'is')\n",
    "\n",
    "obj = pattern.match(string)\n",
    "# print(obj.start(), obj.end()) \n",
    "\n",
    "obj = pattern.search(string)\n",
    "print(obj.start(), obj.end())\n",
    "\n",
    "obj = pattern.findall(string)\n",
    "print(obj)\n",
    "\n",
    "obj = pattern.sub(r'was', string)\n",
    "print(obj)\n"
   ]
  },
  {
   "cell_type": "code",
   "execution_count": 49,
   "metadata": {},
   "outputs": [
    {
     "name": "stdout",
     "output_type": "stream",
     "text": [
      "<callable_iterator object at 0x000002163AEAA620>\n",
      "(4, 6)\n",
      "(34, 36)\n"
     ]
    }
   ],
   "source": [
    "# return an iterator yielding match objects that loops through all non-overlapping matches\n",
    "import re\n",
    "\n",
    "sentence = 'she is more beautiful than me, he is more beautiful than me'\n",
    "\n",
    "pattern = re.compile(r'is')\n",
    "iterator_obj = pattern.finditer(sentence)\n",
    "print(iterator_obj)\n",
    "\n",
    "for match_item in iterator_obj:\n",
    "    print(match_item.span())"
   ]
  },
  {
   "cell_type": "code",
   "execution_count": 21,
   "metadata": {},
   "outputs": [
    {
     "name": "stdout",
     "output_type": "stream",
     "text": [
      "['quickly', 'immediately']\n"
     ]
    }
   ],
   "source": [
    "# use case of python regeX\n",
    "\n",
    "import re\n",
    "sentence = \"he was quickly disguised but still be immediately captured by the police\"\n",
    "\n",
    "pattern = re.compile(r'\\w+ly\\b')\n",
    "print(pattern.findall(sentence))\n",
    "obj = pattern.findall(sentence)\n",
    "print(obj)"
   ]
  },
  {
   "cell_type": "code",
   "execution_count": 34,
   "metadata": {},
   "outputs": [
    {
     "name": "stdout",
     "output_type": "stream",
     "text": [
      "['error', 'unless', 'explicitly']\n"
     ]
    }
   ],
   "source": [
    "# finding word that starts with vowels\n",
    "import re\n",
    "sentence = 'error should have never been passed silently, unless explicitly silenced'\n",
    "\n",
    "pattern = re.compile(r'\\b[aeiouAEIOU]\\w+')\n",
    "print(pattern.findall(sentence))"
   ]
  }
 ],
 "metadata": {
  "kernelspec": {
   "display_name": "Python 3",
   "language": "python",
   "name": "python3"
  },
  "language_info": {
   "codemirror_mode": {
    "name": "ipython",
    "version": 3
   },
   "file_extension": ".py",
   "mimetype": "text/x-python",
   "name": "python",
   "nbconvert_exporter": "python",
   "pygments_lexer": "ipython3",
   "version": "3.11.4"
  }
 },
 "nbformat": 4,
 "nbformat_minor": 2
}
