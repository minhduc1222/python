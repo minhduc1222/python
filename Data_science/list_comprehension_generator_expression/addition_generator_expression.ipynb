{
 "cells": [
  {
   "cell_type": "code",
   "execution_count": 22,
   "metadata": {},
   "outputs": [
    {
     "name": "stdout",
     "output_type": "stream",
     "text": [
      "0\n",
      "1\n",
      "4\n",
      "9\n",
      "16\n",
      "25\n",
      "36\n",
      "49\n",
      "64\n",
      "81\n",
      "100\n",
      "121\n"
     ]
    }
   ],
   "source": [
    "def square(length):\n",
    "    for x in range(length):\n",
    "        yield x ** 2\n",
    "        \n",
    "# the square function returns an iterator object that yields square number of x from 0 to length\n",
    "for number in square(12):\n",
    "    print(number)"
   ]
  },
  {
   "cell_type": "code",
   "execution_count": 26,
   "metadata": {},
   "outputs": [
    {
     "name": "stdout",
     "output_type": "stream",
     "text": [
      "<generator object <genexpr> at 0x000002937E735D80>\n",
      "0\n",
      "1\n",
      "4\n",
      "9\n",
      "16\n",
      "25\n",
      "36\n",
      "49\n",
      "64\n",
      "81\n",
      "100\n",
      "121\n"
     ]
    }
   ],
   "source": [
    "# a simple way\n",
    "squares = (x ** 2 for x in range(12))\n",
    "print(squares)\n",
    "for square in squares:\n",
    "    print(square)"
   ]
  },
  {
   "cell_type": "markdown",
   "metadata": {},
   "source": [
    "# instead of using function to define a generator function, generator expression can be used\n",
    "    much like a list comprehension: - support: + if, else statement  + nested loops  + nested comprehension\n",
    "\n",
    "# difference between generator expression and list comprehension\n",
    "    # list comprehension returns an iterable( sequence of elements stored directly in the memory), allows you to iterate over each elements over and over again\n",
    "    # a generator expression returns an iterator objects, a lazy iterator, only yield one next element at a time based on request, and will be exhausted if iterating over it\n",
    "    \n"
   ]
  }
 ],
 "metadata": {
  "kernelspec": {
   "display_name": "Python 3",
   "language": "python",
   "name": "python3"
  },
  "language_info": {
   "codemirror_mode": {
    "name": "ipython",
    "version": 3
   },
   "file_extension": ".py",
   "mimetype": "text/x-python",
   "name": "python",
   "nbconvert_exporter": "python",
   "pygments_lexer": "ipython3",
   "version": "3.11.4"
  }
 },
 "nbformat": 4,
 "nbformat_minor": 2
}
