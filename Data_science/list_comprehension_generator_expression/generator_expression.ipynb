{
 "cells": [
  {
   "cell_type": "code",
   "execution_count": 10,
   "metadata": {},
   "outputs": [
    {
     "data": {
      "text/plain": [
       "<generator object my_gen at 0x000001F4D2398A00>"
      ]
     },
     "execution_count": 10,
     "metadata": {},
     "output_type": "execute_result"
    }
   ],
   "source": [
    "# generator expression( another way to implement the iterator protocol) by using a function but with yield instead of return\n",
    "# the purpose: - only evaluate element on demand\n",
    "\n",
    "def my_gen():\n",
    "    for i in range(5):\n",
    "        yield i\n",
    "\n",
    "my_gen()"
   ]
  },
  {
   "cell_type": "code",
   "execution_count": 12,
   "metadata": {},
   "outputs": [
    {
     "name": "stdout",
     "output_type": "stream",
     "text": [
      "0\n",
      "4\n",
      "16\n",
      "36\n",
      "64\n",
      "<generator object <genexpr> at 0x000001F4D239A9B0>\n"
     ]
    }
   ],
   "source": [
    "# generator expression create generators on a fly without using the yield keyword\n",
    "gen_exp = (x ** 2 for x in range(10) if x % 2 == 0) # similar to list comprehension, only different when this use round brackets\n",
    "for x in gen_exp:\n",
    "    print(x)\n",
    "print(gen_exp)"
   ]
  },
  {
   "cell_type": "code",
   "execution_count": 14,
   "metadata": {},
   "outputs": [
    {
     "data": {
      "text/plain": [
       "8856"
      ]
     },
     "execution_count": 14,
     "metadata": {},
     "output_type": "execute_result"
    }
   ],
   "source": [
    "from sys import getsizeof\n",
    "my_comp = [x * 5 for x in range(1000)]\n",
    "my_gen = (x * 5 for x in range(1000))\n",
    "getsizeof(my_comp)\n",
    "# getsizeof(my_gen)\n",
    "\n",
    "# the main difference is one takes much less memory than the other\n",
    "    # + creating list reserves memory for the whole list, and then calculate on the spot\n",
    "    # + generator expression only gives out the calculating function( how to calculate), so each time we call for generator,\n",
    "    # instead of print out the whole thing, it yields only the next element of the sequence on demand\n",
    "        # + however, generator will be slower, since the calculating function need to be saved into the next value to be picked up next time( taking time)"
   ]
  }
 ],
 "metadata": {
  "kernelspec": {
   "display_name": "Python 3",
   "language": "python",
   "name": "python3"
  },
  "language_info": {
   "codemirror_mode": {
    "name": "ipython",
    "version": 3
   },
   "file_extension": ".py",
   "mimetype": "text/x-python",
   "name": "python",
   "nbconvert_exporter": "python",
   "pygments_lexer": "ipython3",
   "version": "3.11.4"
  }
 },
 "nbformat": 4,
 "nbformat_minor": 2
}
