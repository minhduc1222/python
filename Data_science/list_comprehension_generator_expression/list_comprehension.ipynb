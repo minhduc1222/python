{
 "cells": [
  {
   "cell_type": "code",
   "execution_count": 3,
   "metadata": {},
   "outputs": [
    {
     "name": "stdout",
     "output_type": "stream",
     "text": [
      "[0, 1, 4, 9, 16]\n",
      "[0, 1, 4, 9, 16]\n",
      "[0, 4, 16]\n"
     ]
    }
   ],
   "source": [
    "# List comprehension example\n",
    "# to simplify from this\n",
    "x = []\n",
    "for i in range(5):\n",
    "    x.append(i ** 2)\n",
    "print(x)\n",
    "# to this\n",
    "y = [j ** 2 for j in range(5)]\n",
    "print(y)\n",
    "\n",
    "# add more condition that will filter the list\n",
    "z = [k ** 2 for k in range(5) if k%2==0]\n",
    "print(z)"
   ]
  },
  {
   "cell_type": "code",
   "execution_count": 4,
   "metadata": {},
   "outputs": [
    {
     "name": "stdout",
     "output_type": "stream",
     "text": [
      "[(1, 'A'), (1, 'B'), (1, 'C'), (1, 'D'), (1, 'E'), (2, 'A'), (2, 'B'), (2, 'C'), (2, 'D'), (2, 'E'), (3, 'A'), (3, 'B'), (3, 'C'), (3, 'D'), (3, 'E'), (4, 'A'), (4, 'B'), (4, 'C'), (4, 'D'), (4, 'E'), (5, 'A'), (5, 'B'), (5, 'C'), (5, 'D'), (5, 'E')]\n"
     ]
    }
   ],
   "source": [
    "# combine several list to create a list of list\n",
    "nums = [1, 2, 3, 4, 5]\n",
    "letters = ['A', 'B', 'C', 'D', 'E']\n",
    "\n",
    "nums_letters = [(n, m) for n in nums for m in letters] # nested loop\n",
    "print(nums_letters)"
   ]
  },
  {
   "cell_type": "code",
   "execution_count": 5,
   "metadata": {},
   "outputs": [
    {
     "name": "stdout",
     "output_type": "stream",
     "text": [
      "['s', 'o', 'm', 'e', 't', 'e', 'x', 't', 's']\n"
     ]
    }
   ],
   "source": [
    "# refer to a string object\n",
    "some_text = 'some texts'\n",
    "x = [i for i in some_text if i != ' ']\n",
    "print(x)"
   ]
  },
  {
   "cell_type": "code",
   "execution_count": 11,
   "metadata": {},
   "outputs": [
    {
     "name": "stdout",
     "output_type": "stream",
     "text": [
      "[{0: 'A'}, {1: 'B'}, {2: 'C'}, {3: 'D'}, {4: 'E'}, {5: 'F'}, {6: 'G'}, {7: 'H'}, {8: 'I'}, {9: 'J'}, {10: 'K'}, {11: 'L'}, {12: 'M'}, {13: 'N'}, {14: 'O'}, {15: 'P'}, {16: 'Q'}, {17: 'R'}, {18: 'S'}, {19: 'T'}, {20: 'U'}, {21: 'V'}, {22: 'W'}, {23: 'X'}, {24: 'Y'}, {25: 'Z'}, {26: '['}, {27: '\\\\'}, {28: ']'}, {29: '^'}, {30: '_'}, {31: '`'}, {32: 'a'}, {33: 'b'}, {34: 'c'}, {35: 'd'}, {36: 'e'}, {37: 'f'}, {38: 'g'}, {39: 'h'}, {40: 'i'}, {41: 'j'}, {42: 'k'}, {43: 'l'}, {44: 'm'}, {45: 'n'}, {46: 'o'}, {47: 'p'}]\n"
     ]
    }
   ],
   "source": [
    "# the comprehension is not only limited to list, u can have comprehension with tuple or dict, or python set generator\n",
    "dict_comp = [{x:chr(x+65)} for x in range(48)]\n",
    "print(dict_comp)"
   ]
  },
  {
   "cell_type": "code",
   "execution_count": 14,
   "metadata": {},
   "outputs": [
    {
     "name": "stdout",
     "output_type": "stream",
     "text": [
      "[True, False]\n"
     ]
    }
   ],
   "source": [
    "# list comprehension- enhance the code readability, can be used when there's lots of data need to be checked with a same function\n",
    "list = [{'is_kyc_passed': True}, {'is_kyc_passed': False}]\n",
    "checked_list = [check['is_kyc_passed'] for check in list]\n",
    "print(checked_list)"
   ]
  },
  {
   "cell_type": "markdown",
   "metadata": {},
   "source": [
    "# list comprehension optimize the lists, by making it more readable, concise and also to avoid gibberish variables.\n",
    "    + ease of code writing and reading, primarily to replace for loop\n",
    "    + improve execution speed, especially when this's not considered as one of python pros in web development, this's shouldn't be neglected\n",
    "    + no modification of existing lists, allow it to be used in functional programming paradigm"
   ]
  },
  {
   "cell_type": "code",
   "execution_count": 24,
   "metadata": {},
   "outputs": [
    {
     "name": "stdout",
     "output_type": "stream",
     "text": [
      "[1, 2, 3]\n",
      "<list_iterator object at 0x0000020B96C4E830>\n",
      "<list_iterator object at 0x0000020B96C4E9E0>\n"
     ]
    },
    {
     "data": {
      "text/plain": [
       "2"
      ]
     },
     "execution_count": 24,
     "metadata": {},
     "output_type": "execute_result"
    }
   ],
   "source": [
    "# difference between iterable and iterator\n",
    "    # + iterable is the sequence of data like [1,2,3,4,5] (a list, ..)\n",
    "    \n",
    "    # + iterator protocol - when you iterate over a sequence of data\n",
    "    # + any iterable passed into the iter() as argument, will be treated as an iterator object\n",
    "# iterator\n",
    "simple_list = [1,2,3]\n",
    "print(simple_list)\n",
    "my_iterator = iter(simple_list)\n",
    "print(my_iterator)\n",
    "another_list = iter(my_iterator)\n",
    "print(list)\n",
    "next(another_list)\n",
    "next(another_list)\n"
   ]
  }
 ],
 "metadata": {
  "kernelspec": {
   "display_name": "Python 3",
   "language": "python",
   "name": "python3"
  },
  "language_info": {
   "codemirror_mode": {
    "name": "ipython",
    "version": 3
   },
   "file_extension": ".py",
   "mimetype": "text/x-python",
   "name": "python",
   "nbconvert_exporter": "python",
   "pygments_lexer": "ipython3",
   "version": "3.11.4"
  }
 },
 "nbformat": 4,
 "nbformat_minor": 2
}
