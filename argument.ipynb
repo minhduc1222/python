{
 "cells": [
  {
   "cell_type": "code",
   "execution_count": 1,
   "metadata": {},
   "outputs": [
    {
     "name": "stdout",
     "output_type": "stream",
     "text": [
      "harryjohn\n",
      "davidjohn\n",
      "rosiejohn\n"
     ]
    }
   ],
   "source": [
    "#information passed into function are called arguments\n",
    "#specified after function name, inside parentheses\n",
    "def my_function(fname): # has same function as parameter, only different in function's perspective( value that is sent to the function when it is called)\n",
    "    print(fname + \"john\")\n",
    "my_function(\"harry\")\n",
    "my_function(\"david\")\n",
    "my_function(\"rosie\")"
   ]
  },
  {
   "cell_type": "code",
   "execution_count": 2,
   "metadata": {},
   "outputs": [
    {
     "name": "stdout",
     "output_type": "stream",
     "text": [
      "tacker stacker\n"
     ]
    }
   ],
   "source": [
    "#number of argument\n",
    "#the number of argument passed into upon being called must be set relative to the number of argument set up\n",
    "def my_fucntion_1(fname1, fname2):\n",
    "    print(fname1 + ' ' + fname2)\n",
    "    \n",
    "my_fucntion_1(\"tacker\", \"stacker\") # must be 2"
   ]
  },
  {
   "cell_type": "code",
   "execution_count": 3,
   "metadata": {},
   "outputs": [
    {
     "name": "stdout",
     "output_type": "stream",
     "text": [
      "youngest kid is landas\n"
     ]
    }
   ],
   "source": [
    "#arbitrary argument *args\n",
    "#if not sure about the number of argument ll be passed into, use \"*\"\n",
    "def my_fucntion_2(*kid_number):\n",
    "    print(\"youngest kid is \" + kid_number[2])\n",
    "    \n",
    "my_fucntion_2(\"tacker\", \"stacker\", \"landas\") # must be 2"
   ]
  },
  {
   "cell_type": "code",
   "execution_count": 4,
   "metadata": {},
   "outputs": [
    {
     "name": "stdout",
     "output_type": "stream",
     "text": [
      "the last toy name is playstation\n"
     ]
    }
   ],
   "source": [
    "#arbitrary keyword argument **kwargs\n",
    "#if you do not know how many keyword being passed into arguments\n",
    "#this way, the function receive a dictionary of arguments, and can be accessed accordingly\n",
    "\n",
    "def my_function_3(**toy_number):\n",
    "    print(f\"the last toy name is \" + toy_number[\"box_3\"])\n",
    "    \n",
    "my_function_3(box_1 = \"teddy bear\", box_2 = \"cars\" ,box_3 = \"playstation\")\n"
   ]
  },
  {
   "cell_type": "code",
   "execution_count": 6,
   "metadata": {},
   "outputs": [
    {
     "name": "stdout",
     "output_type": "stream",
     "text": [
      "my favorite country is sweden\n",
      "my favorite country is netherland\n",
      "my favorite country is Norway\n"
     ]
    }
   ],
   "source": [
    "# default parameter value - if calling function without assigning argument, it ll use default\n",
    "def my_function_4(country = \"Norway\"):\n",
    "    print(\"my favorite country is \" + country)\n",
    "\n",
    "my_function_4(\"sweden\")\n",
    "my_function_4(\"netherland\")\n",
    "my_function_4()\n",
    "\n",
    "\n"
   ]
  },
  {
   "cell_type": "code",
   "execution_count": 15,
   "metadata": {},
   "outputs": [
    {
     "name": "stdout",
     "output_type": "stream",
     "text": [
      "apple\n",
      "banana\n",
      "starfruit\n"
     ]
    }
   ],
   "source": [
    "# passing a list as an argument\n",
    "def my_function_5(food):\n",
    "    for i in food:\n",
    "        print(i)\n",
    "        \n",
    "fruit = [\"apple\", \"banana\", \"starfruit\"]\n",
    "my_function_5(fruit)"
   ]
  },
  {
   "cell_type": "code",
   "execution_count": 17,
   "metadata": {},
   "outputs": [],
   "source": [
    "# pass statement\n",
    "# if you have some reason to make your argument empty, use \"pass\" statement -> to prevent error\n",
    "def my_function_7():\n",
    "    pass\n"
   ]
  },
  {
   "cell_type": "code",
   "execution_count": 16,
   "metadata": {},
   "outputs": [
    {
     "name": "stdout",
     "output_type": "stream",
     "text": [
      "35\n",
      "40\n",
      "45\n"
     ]
    }
   ],
   "source": [
    "# return value\n",
    "def my_function_6(value):\n",
    "    return 5 * value\n",
    "\n",
    "print(my_function_6(7))\n",
    "print(my_function_6(8))\n",
    "print(my_function_6(9))\n"
   ]
  },
  {
   "cell_type": "code",
   "execution_count": 1,
   "metadata": {},
   "outputs": [
    {
     "name": "stdout",
     "output_type": "stream",
     "text": [
      "1\n",
      "3\n",
      "6\n",
      "10\n",
      "15\n",
      "21\n",
      "28\n",
      "36\n",
      "45\n",
      "55\n"
     ]
    },
    {
     "data": {
      "text/plain": [
       "55"
      ]
     },
     "execution_count": 1,
     "metadata": {},
     "output_type": "execute_result"
    }
   ],
   "source": [
    "def tri_recursion(k):\n",
    "    if(k > 0):\n",
    "        result = k + tri_recursion(k-1)\n",
    "        print(result)\n",
    "    else:\n",
    "        result = 0\n",
    "    \n",
    "    return result\n",
    "tri_recursion(10)\n",
    "        "
   ]
  }
 ],
 "metadata": {
  "kernelspec": {
   "display_name": "Python 3",
   "language": "python",
   "name": "python3"
  },
  "language_info": {
   "codemirror_mode": {
    "name": "ipython",
    "version": 3
   },
   "file_extension": ".py",
   "mimetype": "text/x-python",
   "name": "python",
   "nbconvert_exporter": "python",
   "pygments_lexer": "ipython3",
   "version": "3.11.4"
  }
 },
 "nbformat": 4,
 "nbformat_minor": 2
}
