{
 "cells": [
  {
   "cell_type": "code",
   "execution_count": 54,
   "metadata": {},
   "outputs": [],
   "source": [
    "this_dict = {\"brand\": 'ford',\n",
    "            \"model\": 'mustang',\n",
    "            \"year\": 1904}"
   ]
  },
  {
   "cell_type": "code",
   "execution_count": 55,
   "metadata": {},
   "outputs": [
    {
     "name": "stdout",
     "output_type": "stream",
     "text": [
      "ford\n",
      "ford\n",
      "dict_keys(['brand', 'model', 'year'])\n",
      "dict_values(['ford', 'mustang', 1904])\n",
      "dict_items([('brand', 'ford'), ('model', 'mustang'), ('year', 1904)])\n"
     ]
    }
   ],
   "source": [
    "# access dictionary\n",
    "# access item of the referred key name\n",
    "print(this_dict.get('brand'))\n",
    "print(this_dict[\"brand\"])\n",
    "\n",
    "# return the list of all keys\n",
    "print(this_dict.keys())\n",
    "# return the list of all values\n",
    "print(this_dict.values())\n",
    "# return the list of all items(pair of key and its value)\n",
    "print(this_dict.items())"
   ]
  },
  {
   "cell_type": "code",
   "execution_count": 56,
   "metadata": {},
   "outputs": [
    {
     "name": "stdout",
     "output_type": "stream",
     "text": [
      "None\n"
     ]
    }
   ],
   "source": [
    "# change dictionary item\n",
    "this_dict[\"brand\"] = 'toyota'\n",
    "print(this_dict.update({\"brand\": 'bmw'}))"
   ]
  },
  {
   "cell_type": "code",
   "execution_count": 57,
   "metadata": {},
   "outputs": [
    {
     "name": "stdout",
     "output_type": "stream",
     "text": [
      "None\n"
     ]
    }
   ],
   "source": [
    "# update dictionary item\n",
    "this_dict[\"color\"] = 'red'\n",
    "print(this_dict.update({\"color\": 'red'}))"
   ]
  },
  {
   "cell_type": "code",
   "execution_count": 58,
   "metadata": {},
   "outputs": [
    {
     "name": "stdout",
     "output_type": "stream",
     "text": [
      "{'brand': 'bmw', 'model': 'mustang'}\n",
      "{'model': 'mustang'}\n",
      "{'model': 'mustang', 'year': 1929}\n",
      "{}\n"
     ]
    }
   ],
   "source": [
    "# remove a dictionary item\n",
    "this_dict.pop(\"color\")\n",
    "this_dict.popitem() # remove the last item inserted\n",
    "print(this_dict)\n",
    "# delete an item with the specified key name\n",
    "del this_dict[\"brand\"] # can delete the whole dictionary itself\n",
    "print(this_dict)\n",
    "\n",
    "this_dict.update({\"year\": 1929})\n",
    "print(this_dict)\n",
    "this_dict.clear() # empty the dictionary\n",
    "print(this_dict)"
   ]
  },
  {
   "cell_type": "code",
   "execution_count": 64,
   "metadata": {},
   "outputs": [],
   "source": [
    "this_dict = {\"brand\": 'ford',\n",
    "            \"model\": 'mustang',\n",
    "            \"year\": 1904}"
   ]
  },
  {
   "cell_type": "code",
   "execution_count": 66,
   "metadata": {},
   "outputs": [
    {
     "name": "stdout",
     "output_type": "stream",
     "text": [
      "brand\n",
      "model\n",
      "year\n",
      "ford\n",
      "mustang\n",
      "1904\n",
      "brand ford\n",
      "model mustang\n",
      "year 1904\n"
     ]
    }
   ],
   "source": [
    "# loop through a dictionary\n",
    "for x in this_dict.keys():\n",
    "    print(x)\n",
    "for x in this_dict.values():\n",
    "    print(x)\n",
    "for x, y in this_dict.items():\n",
    "    print(x, y)\n",
    "    "
   ]
  },
  {
   "cell_type": "code",
   "execution_count": 68,
   "metadata": {},
   "outputs": [
    {
     "name": "stdout",
     "output_type": "stream",
     "text": [
      "{'brand': 'ford', 'model': 'mustang', 'year': 1904}\n",
      "{'brand': 'ford', 'model': 'mustang', 'year': 1904}\n"
     ]
    }
   ],
   "source": [
    "# copy a dictionary\n",
    "new_dict = this_dict.copy()\n",
    "print(new_dict)\n",
    "extra_dict = dict(this_dict)\n",
    "print(extra_dict)"
   ]
  },
  {
   "cell_type": "code",
   "execution_count": null,
   "metadata": {},
   "outputs": [],
   "source": [
    "# nested dictionary\n",
    "my_child = {\n",
    "    'child1' = {\n",
    "        \"name\": 'Emily',\n",
    "        \"age\": 27\n",
    "    },\n",
    "    'child2' = {\n",
    "        \"name\": 'Anna',\n",
    "        \"age\": 24\n",
    "    },\n",
    "    \"child3\" = {\n",
    "        \"name\": 'jessica',\n",
    "        \"age\": 21\n",
    "    }\n",
    "}\n"
   ]
  },
  {
   "cell_type": "code",
   "execution_count": 71,
   "metadata": {},
   "outputs": [
    {
     "name": "stdout",
     "output_type": "stream",
     "text": [
      "Frank\n"
     ]
    }
   ],
   "source": [
    "# create 3 separate dictionary then convert all into 1\n",
    "from os import name\n",
    "\n",
    "\n",
    "child1 = {\"name\": 'Tobias',\n",
    "          \"age\": 22}\n",
    "\n",
    "child2 = {\"name\": 'Frank',\n",
    "          \"age\": 25}\n",
    "\n",
    "child3 = {\"name\": \"Swain\",\n",
    "          \"age\": 28}\n",
    "\n",
    "all_child = {\"child1\": child1, \"child2\": child2, \"child3\": child3}\n",
    "\n",
    "# accessing items within nested dictionary\n",
    "print(all_child[\"child2\"][\"name\"])"
   ]
  },
  {
   "cell_type": "code",
   "execution_count": 74,
   "metadata": {},
   "outputs": [
    {
     "name": "stdout",
     "output_type": "stream",
     "text": [
      "{'key1': 0, 'key2': 0, 'key3': 0}\n",
      "{'key1': None, 'key2': None, 'key3': None}\n",
      "{'key1': 0, 'key2': 0, 'key3': 0}\n",
      "{'key1': 0, 'key2': 0, 'key3': 0, 'key4': 4}\n"
     ]
    }
   ],
   "source": [
    "# dictionary methods\n",
    "\n",
    "# fromkeys - create a dictionary containing 3 keys, each key has its default value of None\n",
    "x = ('key1', 'key2', 'key3')\n",
    "y = 0\n",
    "thisdict = dict.fromkeys(x, y)\n",
    "print(thisdict)\n",
    "thisdict2 = dict.fromkeys(x)\n",
    "print(thisdict2)\n",
    "\n",
    "# setdefault - return the current value of the specified key, if key does not exist, insert the key with the new specified value\n",
    "thisdict.setdefault('key3', 5)\n",
    "print(thisdict) # value does not change\n",
    "thisdict.setdefault('key4', 4)\n",
    "print(thisdict)\n",
    "\n"
   ]
  }
 ],
 "metadata": {
  "kernelspec": {
   "display_name": "Python 3",
   "language": "python",
   "name": "python3"
  },
  "language_info": {
   "codemirror_mode": {
    "name": "ipython",
    "version": 3
   },
   "file_extension": ".py",
   "mimetype": "text/x-python",
   "name": "python",
   "nbconvert_exporter": "python",
   "pygments_lexer": "ipython3",
   "version": "3.11.4"
  }
 },
 "nbformat": 4,
 "nbformat_minor": 2
}
