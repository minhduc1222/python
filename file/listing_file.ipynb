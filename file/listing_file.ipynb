{
 "cells": [
  {
   "cell_type": "code",
   "execution_count": 1,
   "metadata": {},
   "outputs": [
    {
     "name": "stdout",
     "output_type": "stream",
     "text": [
      "_D:\\MinhDuc\\Desktop\\python\\file_dir_sample\n",
      "_dir_sample_1\n",
      "_file1-1.txt\n",
      "+ file1-1.txt\n",
      "_file1-2.txt\n",
      "+ file1-2.txt\n",
      "_file1-3.txt\n",
      "+ file1-3.txt\n",
      "_file1-4.txt\n",
      "+ file1-4.txt\n",
      "_dir_sample_2\n",
      "_file2-1.txt\n",
      "+ file2-1.txt\n",
      "_file2-2.txt\n",
      "+ file2-2.txt\n",
      "_file2-3.txt\n",
      "+ file2-3.txt\n",
      "_file2-4.txt\n",
      "+ file2-4.txt\n",
      "_unexpected_dir2\n",
      "_uxp_file2-1-1.txt\n",
      "+ uxp_file2-1-1.txt\n",
      "_dir_sample_3\n",
      "_file3-1.txt\n",
      "+ file3-1.txt\n",
      "_file3-2.txt\n",
      "+ file3-2.txt\n",
      "_file3-3.txt\n",
      "+ file3-3.txt\n",
      "_file3-4.txt\n",
      "+ file3-4.txt\n",
      "_dir_sample_4\n",
      "_file4-1.txt\n",
      "+ file4-1.txt\n",
      "_file4-2.txt\n",
      "+ file4-2.txt\n",
      "_file4-3.txt\n",
      "+ file4-3.txt\n",
      "_file4-4.txt\n",
      "+ file4-4.txt\n"
     ]
    }
   ],
   "source": [
    "import os\n",
    "\n",
    "def listing_file(path):\n",
    "    file = path.split('/')[-1]\n",
    "    print('_' + file)\n",
    "    if os.path.isdir(path):\n",
    "        for f in os.listdir(path):\n",
    "            listing_file(path + '/' + f)\n",
    "            \n",
    "    else:\n",
    "        print('+', file)\n",
    "    \n",
    "path = input('Enter path: ')\n",
    "listing_file(path)\n",
    "    # check if path is a directory\n",
    "    \n",
    "# path example: D:\\MinhDuc\\Desktop\\python\\file_dir_sample"
   ]
  },
  {
   "cell_type": "code",
   "execution_count": 3,
   "metadata": {},
   "outputs": [
    {
     "name": "stdout",
     "output_type": "stream",
     "text": [
      "- D:\\MinhDuc\\Desktop\\python\\file_dir_sample\n",
      "  - dir_sample_1\n",
      "    + file1-1.txt\n",
      "    + file1-2.txt\n",
      "    + file1-3.txt\n",
      "    + file1-4.txt\n",
      "  - dir_sample_2\n",
      "    + file2-1.txt\n",
      "    + file2-2.txt\n",
      "    + file2-3.txt\n",
      "    + file2-4.txt\n",
      "    - unexpected_dir2\n",
      "      + uxp_file2-1-1.txt\n",
      "  - dir_sample_3\n",
      "    + file3-1.txt\n",
      "    + file3-2.txt\n",
      "    + file3-3.txt\n",
      "    + file3-4.txt\n",
      "  - dir_sample_4\n",
      "    + file4-1.txt\n",
      "    + file4-2.txt\n",
      "    + file4-3.txt\n",
      "    + file4-4.txt\n"
     ]
    }
   ],
   "source": [
    "import os\n",
    "def listing_file(path, level = 0):\n",
    "    file_name = path.split('/')[-1]\n",
    "\n",
    "    print(' ' * level * 2, end='')\n",
    "    if os.path.isfile(path):\n",
    "        print('+', file_name)\n",
    "    else:\n",
    "        print('-', file_name)\n",
    "        \n",
    "    if os.path.isdir(path):\n",
    "        for f in os.listdir(path):\n",
    "            listing_file(path + '/' + f, level + 1)\n",
    "\n",
    "path = input('Enter path: ')\n",
    "listing_file(path)"
   ]
  }
 ],
 "metadata": {
  "kernelspec": {
   "display_name": "Python 3",
   "language": "python",
   "name": "python3"
  },
  "language_info": {
   "codemirror_mode": {
    "name": "ipython",
    "version": 3
   },
   "file_extension": ".py",
   "mimetype": "text/x-python",
   "name": "python",
   "nbconvert_exporter": "python",
   "pygments_lexer": "ipython3",
   "version": "3.11.4"
  }
 },
 "nbformat": 4,
 "nbformat_minor": 2
}
