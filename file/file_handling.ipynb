{
 "cells": [
  {
   "cell_type": "markdown",
   "metadata": {},
   "source": [
    "\"t\" = text-default value (text mode)\n",
    "\"b\" = binary-binary mode (image)"
   ]
  },
  {
   "cell_type": "markdown",
   "metadata": {},
   "source": [
    "\"r\" = open the file for reading - file not exist->error\n",
    "\"a\" \"w\" = __ for appending, writing - file not exist->create file\n",
    "\"x\"= create a specified file - file not exist->create file"
   ]
  },
  {
   "cell_type": "code",
   "execution_count": 1,
   "metadata": {},
   "outputs": [
    {
     "name": "stdout",
     "output_type": "stream",
     "text": [
      "Gmail: Best for Offline Accessibility\n",
      "\n"
     ]
    }
   ],
   "source": [
    "f = open(\"some_text.txt\", \"r\")\n",
    "print(f.readline())"
   ]
  },
  {
   "cell_type": "code",
   "execution_count": 2,
   "metadata": {},
   "outputs": [
    {
     "name": "stdout",
     "output_type": "stream",
     "text": [
      "Gmail: Best for Offline Accessibility\n",
      "AOL: Best for Interface Organization\n",
      "Outlook: Best for Multiple App Integrations\n",
      "Neo: Best for Creating a Custom Email Without a Domain\n",
      "Yahoo! Mail: Best for Lots of Storage\n",
      "iCloud Mail: Best for IMAP\n",
      "Mozilla Thunderbird: Best for Managing Multiple Accounts\n"
     ]
    }
   ],
   "source": [
    "f = open(\"some_text.txt\", \"r\")\n",
    "print(f.read())"
   ]
  },
  {
   "cell_type": "code",
   "execution_count": 16,
   "metadata": {},
   "outputs": [
    {
     "name": "stdout",
     "output_type": "stream",
     "text": [
      "['AOL', ' Best for Interface Organization\\n']\n",
      "AOL Best for Interface Organization\n",
      "\n",
      "['Outlook', ' Best for Multiple App Integrations\\n']\n",
      "Outlook Best for Multiple App Integrations\n",
      "\n",
      "['Neo', ' Best for Creating a Custom Email Without a Domain\\n']\n",
      "Neo Best for Creating a Custom Email Without a Domain\n",
      "\n",
      "['Yahoo! Mail', ' Best for Lots of Storage\\n']\n",
      "Yahoo! Mail Best for Lots of Storage\n",
      "\n",
      "['iCloud Mail', ' Best for IMAP\\n']\n",
      "iCloud Mail Best for IMAP\n",
      "\n",
      "['Mozilla Thunderbird', ' Best for Managing Multiple Accounts']\n",
      "Mozilla Thunderbird Best for Managing Multiple Accounts\n"
     ]
    }
   ],
   "source": [
    "f = open(\"some_text.txt\", \"r\")\n",
    "line = f.readline() # only read 1 line at a time, repeat the code to proceed to next line\n",
    "lines = f.readlines() \n",
    "for line in lines:\n",
    "    a = line.split(':')\n",
    "    print(a)\n",
    "    print(f'{a[0]}{a[1]}')\n",
    "f.close()"
   ]
  },
  {
   "cell_type": "code",
   "execution_count": 2,
   "metadata": {},
   "outputs": [
    {
     "name": "stdout",
     "output_type": "stream",
     "text": [
      "Gmail Best for Offline Accessibility\n",
      "\n",
      "AOL Best for Interface Organization\n",
      "\n",
      "Outlook Best for Multiple App Integrations\n",
      "\n",
      "Neo Best for Creating a Custom Email Without a Domain\n",
      "\n",
      "Yahoo! Mail Best for Lots of Storage\n",
      "\n",
      "iCloud Mail Best for IMAP\n",
      "\n",
      "Mozilla Thunderbird Best for Managing Multiple Accounts\n"
     ]
    }
   ],
   "source": [
    "# loop through a file\n",
    "f = open(\"some_text.txt\", \"r\")\n",
    "for x in f:\n",
    "    a = x.split(':')\n",
    "    print(f'{a[0]}{a[1]}')\n",
    "f.close()"
   ]
  }
 ],
 "metadata": {
  "kernelspec": {
   "display_name": "Python 3",
   "language": "python",
   "name": "python3"
  },
  "language_info": {
   "codemirror_mode": {
    "name": "ipython",
    "version": 3
   },
   "file_extension": ".py",
   "mimetype": "text/x-python",
   "name": "python",
   "nbconvert_exporter": "python",
   "pygments_lexer": "ipython3",
   "version": "3.11.4"
  }
 },
 "nbformat": 4,
 "nbformat_minor": 2
}
