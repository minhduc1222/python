{
 "cells": [
  {
   "cell_type": "code",
   "execution_count": 4,
   "metadata": {},
   "outputs": [
    {
     "name": "stdout",
     "output_type": "stream",
     "text": [
      "1\n",
      "2\n",
      "3\n"
     ]
    }
   ],
   "source": [
    "list_1 = [1,2,3]\n",
    "for i in list_1:\n",
    "    print(f'{list_1[i-1]}')"
   ]
  },
  {
   "cell_type": "code",
   "execution_count": 17,
   "metadata": {},
   "outputs": [
    {
     "name": "stdout",
     "output_type": "stream",
     "text": [
      "D:\\MinhDuc\\Desktop\\python\\file_dir_sample\n",
      "  dir_sample_1\n",
      "    file1-1.txt\n",
      "    file1-1.txt\n",
      "    file1-2.txt\n",
      "    file1-2.txt\n",
      "    file1-3.txt\n",
      "    file1-3.txt\n",
      "    file1-4.txt\n",
      "    file1-4.txt\n",
      "  dir_sample_2\n",
      "    file2-1.txt\n",
      "    file2-1.txt\n",
      "    file2-2.txt\n",
      "    file2-2.txt\n",
      "    file2-3.txt\n",
      "    file2-3.txt\n",
      "    file2-4.txt\n",
      "    file2-4.txt\n",
      "    unexpected_dir2\n",
      "      uxp_file2-1-1.txt\n",
      "      uxp_file2-1-1.txt\n",
      "  dir_sample_3\n",
      "    file3-1.txt\n",
      "    file3-1.txt\n",
      "    file3-2.txt\n",
      "    file3-2.txt\n",
      "    file3-3.txt\n",
      "    file3-3.txt\n",
      "    file3-4.txt\n",
      "    file3-4.txt\n",
      "  dir_sample_4\n",
      "    file4-1.txt\n",
      "    file4-1.txt\n",
      "    file4-2.txt\n",
      "    file4-2.txt\n",
      "    file4-3.txt\n",
      "    file4-3.txt\n",
      "    file4-4.txt\n",
      "    file4-4.txt\n"
     ]
    }
   ],
   "source": [
    "import os\n",
    "\n",
    "def listing_file(path, level = 0):\n",
    "    files = path.split('/')[-1]\n",
    "    print(f\"{(level * 2)*' '}{files}\")\n",
    "    if os.path.isdir(path):\n",
    "        for file in os.listdir(path):\n",
    "            listing_file(path + '/' + file, level +1)\n",
    "    else:\n",
    "        print(f\"{(level * 2)*' '}{files}\")\n",
    "path = input('enter path: ')\n",
    "listing_file(path)"
   ]
  },
  {
   "cell_type": "code",
   "execution_count": 41,
   "metadata": {},
   "outputs": [
    {
     "name": "stdout",
     "output_type": "stream",
     "text": [
      "dsaadssadbxbxbxbxbxbxbx\n",
      "dsadsadsasadsasdsadsad\n",
      "\n"
     ]
    }
   ],
   "source": [
    "import os\n",
    "\n",
    "f = open('sampletext.txt','r+')\n",
    "lines = f.readlines()\n",
    "for i in range(len(lines)):\n",
    "    print(f'{lines[i-1]}')\n",
    "f.writelines('bx')\n",
    "f.close()"
   ]
  }
 ],
 "metadata": {
  "kernelspec": {
   "display_name": "Python 3",
   "language": "python",
   "name": "python3"
  },
  "language_info": {
   "codemirror_mode": {
    "name": "ipython",
    "version": 3
   },
   "file_extension": ".py",
   "mimetype": "text/x-python",
   "name": "python",
   "nbconvert_exporter": "python",
   "pygments_lexer": "ipython3",
   "version": "3.11.4"
  }
 },
 "nbformat": 4,
 "nbformat_minor": 2
}
