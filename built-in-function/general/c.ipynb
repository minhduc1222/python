{
 "cells": [
  {
   "cell_type": "code",
   "execution_count": null,
   "metadata": {},
   "outputs": [
    {
     "name": "stdout",
     "output_type": "stream",
     "text": [
      "<function test_function at 0x00000276A28DF600>\n",
      "True\n"
     ]
    }
   ],
   "source": [
    "# callable - return true if the object argument is callable\n",
    "def test_function():\n",
    "    print('abc')\n",
    "x = test_function\n",
    "print(x)\n",
    "print(callable(x))"
   ]
  }
 ],
 "metadata": {
  "language_info": {
   "name": "python"
  }
 },
 "nbformat": 4,
 "nbformat_minor": 2
}
