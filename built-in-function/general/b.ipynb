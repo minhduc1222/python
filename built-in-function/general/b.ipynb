{
 "cells": [
  {
   "cell_type": "code",
   "execution_count": 13,
   "metadata": {},
   "outputs": [
    {
     "name": "stdout",
     "output_type": "stream",
     "text": [
      "bytearray(b'dsa')\n",
      "bytearray(b'dsas')\n"
     ]
    }
   ],
   "source": [
    "# byte array - used to get a bytearray object\n",
    "x = bytearray(str.encode('dsa')) # str value must have encoding\n",
    "print(x)\n",
    "y = bytearray('dsas','utf-8')\n",
    "print(y)"
   ]
  },
  {
   "cell_type": "code",
   "execution_count": null,
   "metadata": {},
   "outputs": [],
   "source": [
    "iterator = bytearray([1,2,3,4,5]) # create a bytearray from an iterable( vong lap) of integers\n",
    "print(iterator)\n",
    "iterator[1] = 3 # allow for modifying value( mutable property)\n",
    "print(iterator)"
   ]
  },
  {
   "cell_type": "code",
   "execution_count": 37,
   "metadata": {},
   "outputs": [
    {
     "name": "stdout",
     "output_type": "stream",
     "text": [
      "b'\\x01\\x02\\x03\\x04\\x05\\x06'\n",
      "b'\\x01\\x02\\x03\\x04\\x05\\x06'\n"
     ]
    }
   ],
   "source": [
    "# bytes - used to get a new byte object\n",
    " # an immutable version of bytearray\n",
    "iterator_1 = bytes([1,2,3,4,5,6])\n",
    "print(iterator_1)\n",
    "# iterator_1[1] = 3 # raise an error (does not support item assignment) \n",
    "print(iterator_1)"
   ]
  }
 ],
 "metadata": {
  "kernelspec": {
   "display_name": "Python 3",
   "language": "python",
   "name": "python3"
  },
  "language_info": {
   "codemirror_mode": {
    "name": "ipython",
    "version": 3
   },
   "file_extension": ".py",
   "mimetype": "text/x-python",
   "name": "python",
   "nbconvert_exporter": "python",
   "pygments_lexer": "ipython3",
   "version": "3.11.4"
  }
 },
 "nbformat": 4,
 "nbformat_minor": 2
}
