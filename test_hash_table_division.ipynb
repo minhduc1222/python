{
 "cells": [
  {
   "cell_type": "code",
   "execution_count": 1,
   "metadata": {},
   "outputs": [
    {
     "name": "stdout",
     "output_type": "stream",
     "text": [
      "{'a': 1, 'b': 9, 'c': 'nebraska', 'd': True}\n",
      "{'a': 1, 'b': 9, 'c': 'nebraska', 'd': True, 'e': False}\n",
      "{'b': 9, 'c': 'nebraska', 'd': True, 'e': False}\n",
      "nebraska\n",
      "hash of 50 with table size 13 --> 11\n"
     ]
    }
   ],
   "source": [
    "def hashing_by_division(k, m):\n",
    "    return k % m\n",
    "\n",
    "\n",
    "def main():\n",
    "    dictionary = {\n",
    "        'a': 1,\n",
    "        'b': 9,\n",
    "        'c': 'nebraska',\n",
    "        'd': True\n",
    "    }\n",
    "\n",
    "    print(dictionary)\n",
    "\n",
    "    # insert \n",
    "    dictionary['e'] = False\n",
    "    print(dictionary)\n",
    "\n",
    "    # delete \n",
    "    del dictionary['a']\n",
    "    print(dictionary)\n",
    "\n",
    "    # search\n",
    "    print(dictionary['c'])\n",
    "\n",
    "    # key = 50, table size = 13\n",
    "    k = 50\n",
    "    m = 13\n",
    "    print(f'hash of 50 with table size 13 --> {hashing_by_division(k, m)}')\n",
    "\n",
    "main()"
   ]
  }
 ],
 "metadata": {
  "kernelspec": {
   "display_name": "Python 3",
   "language": "python",
   "name": "python3"
  },
  "language_info": {
   "codemirror_mode": {
    "name": "ipython",
    "version": 3
   },
   "file_extension": ".py",
   "mimetype": "text/x-python",
   "name": "python",
   "nbconvert_exporter": "python",
   "pygments_lexer": "ipython3",
   "version": "3.11.4"
  }
 },
 "nbformat": 4,
 "nbformat_minor": 2
}
